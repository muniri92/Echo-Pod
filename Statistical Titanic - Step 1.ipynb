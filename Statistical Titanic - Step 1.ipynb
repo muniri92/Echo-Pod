{
 "cells": [
  {
   "cell_type": "markdown",
   "metadata": {},
   "source": [
    "# Statistical Problems: Step 1"
   ]
  },
  {
   "cell_type": "markdown",
   "metadata": {},
   "source": [
    "## Question 1\n",
    "#### What are the columns and what do they mean?\n",
    "```\n",
    "VARIABLE DESCRIPTIONS:\n",
    "survival        Survival\n",
    "                (0 = No; 1 = Yes)\n",
    "pclass          Passenger Class\n",
    "                (1 = 1st; 2 = 2nd; 3 = 3rd)\n",
    "name            Name\n",
    "sex             Sex\n",
    "age             Age\n",
    "sibsp           Number of Siblings/Spouses Aboard\n",
    "parch           Number of Parents/Children Aboard\n",
    "ticket          Ticket Number\n",
    "fare            Passenger Fare\n",
    "cabin           Cabin\n",
    "embarked        Port of Embarkation\n",
    "                (C = Cherbourg; Q = Queenstown; S = Southampton)\n",
    "\n",
    "SPECIAL NOTES:\n",
    "Pclass is a proxy for socio-economic status (SES)\n",
    " 1st ~ Upper; 2nd ~ Middle; 3rd ~ Lower\n",
    "\n",
    "Age is in Years; Fractional if Age less than One (1)\n",
    " If the Age is Estimated, it is in the form xx.5\n",
    "\n",
    "With respect to the family relation variables (i.e. sibsp and parch)\n",
    "some relations were ignored.  The following are the definitions used\n",
    "for sibsp and parch.\n",
    "\n",
    "Sibling:  Brother, Sister, Stepbrother, or Stepsister of Passenger Aboard Titanic\n",
    "Spouse:   Husband or Wife of Passenger Aboard Titanic (Mistresses and Fiances Ignored)\n",
    "Parent:   Mother or Father of Passenger Aboard Titanic\n",
    "Child:    Son, Daughter, Stepson, or Stepdaughter of Passenger Aboard Titanic\n",
    "\n",
    "Other family relatives excluded from this study include cousins,\n",
    "nephews/nieces, aunts/uncles, and in-laws.  Some children travelled\n",
    "only with a nanny, therefore parch=0 for them.  As well, some\n",
    "travelled with very close friends or neighbors in a village, however,\n",
    "the definitions do not support such relations.\n",
    "```"
   ]
  },
  {
   "cell_type": "markdown",
   "metadata": {},
   "source": [
    "## Importing data file"
   ]
  },
  {
   "cell_type": "code",
   "execution_count": 1,
   "metadata": {
    "collapsed": false
   },
   "outputs": [
    {
     "data": {
      "text/html": [
       "<div>\n",
       "<table border=\"1\" class=\"dataframe\">\n",
       "  <thead>\n",
       "    <tr style=\"text-align: right;\">\n",
       "      <th></th>\n",
       "      <th>PassengerId</th>\n",
       "      <th>Survived</th>\n",
       "      <th>Pclass</th>\n",
       "      <th>Name</th>\n",
       "      <th>Sex</th>\n",
       "      <th>Age</th>\n",
       "      <th>SibSp</th>\n",
       "      <th>Parch</th>\n",
       "      <th>Ticket</th>\n",
       "      <th>Fare</th>\n",
       "      <th>Cabin</th>\n",
       "      <th>Embarked</th>\n",
       "    </tr>\n",
       "  </thead>\n",
       "  <tbody>\n",
       "    <tr>\n",
       "      <th>0</th>\n",
       "      <td>1</td>\n",
       "      <td>0</td>\n",
       "      <td>3</td>\n",
       "      <td>Braund, Mr. Owen Harris</td>\n",
       "      <td>male</td>\n",
       "      <td>22.0</td>\n",
       "      <td>1</td>\n",
       "      <td>0</td>\n",
       "      <td>A/5 21171</td>\n",
       "      <td>7.2500</td>\n",
       "      <td>NaN</td>\n",
       "      <td>S</td>\n",
       "    </tr>\n",
       "    <tr>\n",
       "      <th>1</th>\n",
       "      <td>2</td>\n",
       "      <td>1</td>\n",
       "      <td>1</td>\n",
       "      <td>Cumings, Mrs. John Bradley (Florence Briggs Th...</td>\n",
       "      <td>female</td>\n",
       "      <td>38.0</td>\n",
       "      <td>1</td>\n",
       "      <td>0</td>\n",
       "      <td>PC 17599</td>\n",
       "      <td>71.2833</td>\n",
       "      <td>C85</td>\n",
       "      <td>C</td>\n",
       "    </tr>\n",
       "    <tr>\n",
       "      <th>2</th>\n",
       "      <td>3</td>\n",
       "      <td>1</td>\n",
       "      <td>3</td>\n",
       "      <td>Heikkinen, Miss. Laina</td>\n",
       "      <td>female</td>\n",
       "      <td>26.0</td>\n",
       "      <td>0</td>\n",
       "      <td>0</td>\n",
       "      <td>STON/O2. 3101282</td>\n",
       "      <td>7.9250</td>\n",
       "      <td>NaN</td>\n",
       "      <td>S</td>\n",
       "    </tr>\n",
       "    <tr>\n",
       "      <th>3</th>\n",
       "      <td>4</td>\n",
       "      <td>1</td>\n",
       "      <td>1</td>\n",
       "      <td>Futrelle, Mrs. Jacques Heath (Lily May Peel)</td>\n",
       "      <td>female</td>\n",
       "      <td>35.0</td>\n",
       "      <td>1</td>\n",
       "      <td>0</td>\n",
       "      <td>113803</td>\n",
       "      <td>53.1000</td>\n",
       "      <td>C123</td>\n",
       "      <td>S</td>\n",
       "    </tr>\n",
       "    <tr>\n",
       "      <th>4</th>\n",
       "      <td>5</td>\n",
       "      <td>0</td>\n",
       "      <td>3</td>\n",
       "      <td>Allen, Mr. William Henry</td>\n",
       "      <td>male</td>\n",
       "      <td>35.0</td>\n",
       "      <td>0</td>\n",
       "      <td>0</td>\n",
       "      <td>373450</td>\n",
       "      <td>8.0500</td>\n",
       "      <td>NaN</td>\n",
       "      <td>S</td>\n",
       "    </tr>\n",
       "  </tbody>\n",
       "</table>\n",
       "</div>"
      ],
      "text/plain": [
       "   PassengerId  Survived  Pclass  \\\n",
       "0            1         0       3   \n",
       "1            2         1       1   \n",
       "2            3         1       3   \n",
       "3            4         1       1   \n",
       "4            5         0       3   \n",
       "\n",
       "                                                Name     Sex   Age  SibSp  \\\n",
       "0                            Braund, Mr. Owen Harris    male  22.0      1   \n",
       "1  Cumings, Mrs. John Bradley (Florence Briggs Th...  female  38.0      1   \n",
       "2                             Heikkinen, Miss. Laina  female  26.0      0   \n",
       "3       Futrelle, Mrs. Jacques Heath (Lily May Peel)  female  35.0      1   \n",
       "4                           Allen, Mr. William Henry    male  35.0      0   \n",
       "\n",
       "   Parch            Ticket     Fare Cabin Embarked  \n",
       "0      0         A/5 21171   7.2500   NaN        S  \n",
       "1      0          PC 17599  71.2833   C85        C  \n",
       "2      0  STON/O2. 3101282   7.9250   NaN        S  \n",
       "3      0            113803  53.1000  C123        S  \n",
       "4      0            373450   8.0500   NaN        S  "
      ]
     },
     "execution_count": 1,
     "metadata": {},
     "output_type": "execute_result"
    }
   ],
   "source": [
    "import numpy as np\n",
    "import pandas as pd\n",
    "\n",
    "titanic_data = pd.read_csv('train.csv')\n",
    "titanic_data.head(5)"
   ]
  },
  {
   "cell_type": "markdown",
   "metadata": {},
   "source": [
    "#### How big is the data?"
   ]
  },
  {
   "cell_type": "code",
   "execution_count": 2,
   "metadata": {
    "collapsed": false,
    "scrolled": true
   },
   "outputs": [
    {
     "name": "stdout",
     "output_type": "stream",
     "text": [
      "There are 891 rows in out dataset. \n",
      "\n",
      "The column names are ['PassengerId', 'Survived', 'Pclass', 'Name', 'Sex', 'Age', 'SibSp', 'Parch', 'Ticket', 'Fare', 'Cabin', 'Embarked']\n"
     ]
    }
   ],
   "source": [
    "print(\"There are \" + str(len(titanic_data)) + \" rows in out dataset. \\n\")\n",
    "print(\"The column names are \" + str(list(titanic_data.columns.values)))"
   ]
  },
  {
   "cell_type": "markdown",
   "metadata": {},
   "source": [
    "## Question 2\n",
    "#### What's the average age of..\n",
    "    - any Titanic passenger\n",
    "    - a survivor\n",
    "    - a non-surviving first-class passenger\n",
    "    - male survivors older than 30 from anywhere but Queenstown"
   ]
  },
  {
   "cell_type": "code",
   "execution_count": 3,
   "metadata": {
    "collapsed": false
   },
   "outputs": [
    {
     "name": "stdout",
     "output_type": "stream",
     "text": [
      "Average age of all passengers with data is 29.69911764705882\n"
     ]
    }
   ],
   "source": [
    "Ages = np.mean(titanic_data.Age)\n",
    "print('Average age of all passengers with data is {}'.format(Ages))"
   ]
  },
  {
   "cell_type": "code",
   "execution_count": 4,
   "metadata": {
    "collapsed": false
   },
   "outputs": [],
   "source": [
    "survivors = titanic_data[titanic_data.Survived == 1]"
   ]
  },
  {
   "cell_type": "code",
   "execution_count": 5,
   "metadata": {
    "collapsed": false
   },
   "outputs": [
    {
     "name": "stdout",
     "output_type": "stream",
     "text": [
      "Average survivor age is 28.343689655172415\n"
     ]
    }
   ],
   "source": [
    "srv_ages = np.mean(survivors.Age)\n",
    "print('Average survivor age is {}'.format(srv_ages))"
   ]
  },
  {
   "cell_type": "code",
   "execution_count": 6,
   "metadata": {
    "collapsed": false
   },
   "outputs": [
    {
     "name": "stdout",
     "output_type": "stream",
     "text": [
      "Average first class passenger who died age is 43.6953125\n"
     ]
    }
   ],
   "source": [
    "first_dead = titanic_data[(titanic_data.Survived == 0) & (titanic_data.Pclass ==1)]\n",
    "first_dead_ages = np.mean(first_dead.Age)\n",
    "print('Average first class passenger who died age is {}'.format(first_dead_ages))"
   ]
  },
  {
   "cell_type": "code",
   "execution_count": 7,
   "metadata": {
    "collapsed": false
   },
   "outputs": [
    {
     "name": "stdout",
     "output_type": "stream",
     "text": [
      "Average age of male not dead over 30 not from Queenstown is 41.48780487804878\n"
     ]
    }
   ],
   "source": [
    "live_males = titanic_data[(titanic_data.Survived==1) & (titanic_data.Age>30) & (titanic_data.Sex=='male') & (titanic_data.Embarked!= 'Q')]\n",
    "live_males_ave = np.mean(live_males.Age)\n",
    "print('Average age of male not dead over 30 not from Queenstown is {}'.format(live_males_ave))"
   ]
  },
  {
   "cell_type": "markdown",
   "metadata": {},
   "source": [
    "## Question 3\n",
    "#### What's the most common..\n",
    "    - passenger class\n",
    "    - port of Embarkation\n",
    "    - number of siblings or spouses aboard for surviors"
   ]
  },
  {
   "cell_type": "code",
   "execution_count": 8,
   "metadata": {
    "collapsed": false
   },
   "outputs": [
    {
     "data": {
      "text/plain": [
       "3    491\n",
       "1    216\n",
       "2    184\n",
       "Name: Pclass, dtype: int64"
      ]
     },
     "execution_count": 8,
     "metadata": {},
     "output_type": "execute_result"
    }
   ],
   "source": [
    "titanic_data['Pclass'].value_counts()"
   ]
  },
  {
   "cell_type": "markdown",
   "metadata": {},
   "source": [
    "The most common passengers are in the third class."
   ]
  },
  {
   "cell_type": "code",
   "execution_count": 9,
   "metadata": {
    "collapsed": false
   },
   "outputs": [
    {
     "data": {
      "text/plain": [
       "S    644\n",
       "C    168\n",
       "Q     77\n",
       "Name: Embarked, dtype: int64"
      ]
     },
     "execution_count": 9,
     "metadata": {},
     "output_type": "execute_result"
    }
   ],
   "source": [
    "titanic_data['Embarked'].value_counts()"
   ]
  },
  {
   "cell_type": "markdown",
   "metadata": {},
   "source": [
    "The most common port to embark from is Southamptom."
   ]
  },
  {
   "cell_type": "code",
   "execution_count": 10,
   "metadata": {
    "collapsed": false
   },
   "outputs": [
    {
     "data": {
      "text/plain": [
       "0    210\n",
       "1    112\n",
       "2     13\n",
       "3      4\n",
       "4      3\n",
       "Name: SibSp, dtype: int64"
      ]
     },
     "execution_count": 10,
     "metadata": {},
     "output_type": "execute_result"
    }
   ],
   "source": [
    "survivors['SibSp'].value_counts()"
   ]
  },
  {
   "cell_type": "markdown",
   "metadata": {},
   "source": [
    "More often survivors had 0 sibliings or spouses onboards."
   ]
  },
  {
   "cell_type": "markdown",
   "metadata": {},
   "source": [
    "## Question 4\n",
    "#### Within what range of standard deviations from the mean (0-1, 1-2, 2-3) is the median ticket price? Above or below the mean?"
   ]
  },
  {
   "cell_type": "code",
   "execution_count": 11,
   "metadata": {
    "collapsed": false
   },
   "outputs": [
    {
     "name": "stdout",
     "output_type": "stream",
     "text": [
      "The average fare prices is: 32.2042079685746\n"
     ]
    }
   ],
   "source": [
    "fare_mean = np.mean(titanic_data.Fare)\n",
    "print(\"The average fare prices is: \" + str(fare_mean))"
   ]
  },
  {
   "cell_type": "code",
   "execution_count": 12,
   "metadata": {
    "collapsed": false
   },
   "outputs": [
    {
     "name": "stdout",
     "output_type": "stream",
     "text": [
      "The median fare prices is: 14.4542\n"
     ]
    }
   ],
   "source": [
    "fare_median = np.median(titanic_data.Fare)\n",
    "print(\"The median fare prices is: \" + str(fare_median))"
   ]
  },
  {
   "cell_type": "code",
   "execution_count": 13,
   "metadata": {
    "collapsed": false
   },
   "outputs": [
    {
     "name": "stdout",
     "output_type": "stream",
     "text": [
      "The standard deviation of the fare prices is: 49.66553444477411\n"
     ]
    }
   ],
   "source": [
    "std_all = np.std(titanic_data.Fare)\n",
    "print(\"The standard deviation of the fare prices is: \" + str(std_all))"
   ]
  },
  {
   "cell_type": "code",
   "execution_count": 14,
   "metadata": {
    "collapsed": false
   },
   "outputs": [
    {
     "name": "stdout",
     "output_type": "stream",
     "text": [
      "Anything within the -17.46132647619951 and 81.86974241334872 is within one standard deviation of the mean.\n"
     ]
    }
   ],
   "source": [
    "max = (fare_mean + std_all)\n",
    "min = (fare_mean - std_all)\n",
    "print(\"Anything within the \" + str(min) + \" and \" + str(max) + \" is within one standard deviation of the mean.\")"
   ]
  },
  {
   "cell_type": "markdown",
   "metadata": {},
   "source": [
    "Because the median (14.4542) is between -17.46132647619951 and 81.86974241334872, we can conclude that it is in fact with one standard deviation of the mean."
   ]
  },
  {
   "cell_type": "markdown",
   "metadata": {},
   "source": [
    "## Question 5\n",
    "#### How much more expensive was the 90th percentile ticket than the 5th percentile ticket? Are they the same class?"
   ]
  },
  {
   "cell_type": "code",
   "execution_count": 15,
   "metadata": {
    "collapsed": false
   },
   "outputs": [
    {
     "name": "stdout",
     "output_type": "stream",
     "text": [
      "The 5th percentile: 7.225\n",
      "The 90th percentile: 77.9583\n",
      "The difference between the 90th and 5th percentile in ticket cost is $70.7333\n"
     ]
    }
   ],
   "source": [
    "p90, p5 = np.percentile(titanic_data.Fare, [90,5])\n",
    "diff = p90 - p5\n",
    "print(\"The 5th percentile: \" + str(p5)) \n",
    "print(\"The 90th percentile: \" + str(p90)) \n",
    "print('The difference between the 90th and 5th percentile in ticket cost is ${}'.format(diff))"
   ]
  },
  {
   "cell_type": "code",
   "execution_count": 16,
   "metadata": {
    "collapsed": false
   },
   "outputs": [
    {
     "name": "stdout",
     "output_type": "stream",
     "text": [
      "Tickets at the 90th percentile are associated with passengers in class: 1\n"
     ]
    }
   ],
   "source": [
    "class_90 = titanic_data[titanic_data.Fare == p90].Pclass\n",
    "print(\"Tickets at the 90th percentile are associated with passengers in class: \" + str(class_90.values[1]))"
   ]
  },
  {
   "cell_type": "code",
   "execution_count": 17,
   "metadata": {
    "collapsed": false
   },
   "outputs": [
    {
     "name": "stdout",
     "output_type": "stream",
     "text": [
      "Tickets at the 90th percentile are associated with passengers in class: 3\n"
     ]
    }
   ],
   "source": [
    "class_5 = titanic_data[titanic_data.Fare == p5].Pclass\n",
    "print(\"Tickets at the 90th percentile are associated with passengers in class: \" + str(class_5.values[1]))"
   ]
  },
  {
   "cell_type": "markdown",
   "metadata": {},
   "source": [
    "##  Question 6\n",
    "#### Which port has the heightest average ticket price paid by passengers? "
   ]
  },
  {
   "cell_type": "code",
   "execution_count": 18,
   "metadata": {
    "collapsed": false
   },
   "outputs": [
    {
     "name": "stdout",
     "output_type": "stream",
     "text": [
      "South Hampton passengers paid an average of: $27.07981180124218\n"
     ]
    }
   ],
   "source": [
    "s_average = np.mean(titanic_data.Fare[titanic_data.Embarked=='S'])\n",
    "print(\"South Hampton passengers paid an average of: $\" + str(s_average))"
   ]
  },
  {
   "cell_type": "code",
   "execution_count": 19,
   "metadata": {
    "collapsed": false
   },
   "outputs": [
    {
     "name": "stdout",
     "output_type": "stream",
     "text": [
      "Queenstown passengers paid an average of: $13.276029870129872\n"
     ]
    }
   ],
   "source": [
    "q_average = np.mean(titanic_data.Fare[titanic_data.Embarked=='Q'])\n",
    "print(\"Queenstown passengers paid an average of: $\" + str(q_average))"
   ]
  },
  {
   "cell_type": "code",
   "execution_count": 20,
   "metadata": {
    "collapsed": false
   },
   "outputs": [
    {
     "name": "stdout",
     "output_type": "stream",
     "text": [
      "Cherbourg passengers paid an average of: $59.95414404761905\n"
     ]
    }
   ],
   "source": [
    "c_average = np.mean(titanic_data.Fare[titanic_data.Embarked=='C'])\n",
    "print(\"Cherbourg passengers paid an average of: $\" + str(c_average))"
   ]
  },
  {
   "cell_type": "markdown",
   "metadata": {},
   "source": [
    "#### Cherbourg is the port with the highest price average."
   ]
  },
  {
   "cell_type": "markdown",
   "metadata": {},
   "source": [
    "\n",
    "## Question 7\n",
    "#### Which port has passengers from the most similar passenger class?"
   ]
  },
  {
   "cell_type": "code",
   "execution_count": 21,
   "metadata": {
    "collapsed": false
   },
   "outputs": [
    {
     "name": "stdout",
     "output_type": "stream",
     "text": [
      "Passengers from Southampton are mostly from class 3 with a count of 353\n"
     ]
    }
   ],
   "source": [
    "s_class_ave = titanic_data[titanic_data.Embarked=='S'].Pclass\n",
    "import scipy.stats as sp\n",
    "s_class_ave = sp.mode(s_class_ave)\n",
    "print(\"Passengers from Southampton are mostly from class \" + str(s_class_ave[0][0]) + \" with a count of \" + str(s_class_ave[1][0]))"
   ]
  },
  {
   "cell_type": "code",
   "execution_count": 22,
   "metadata": {
    "collapsed": false
   },
   "outputs": [
    {
     "name": "stdout",
     "output_type": "stream",
     "text": [
      "Passengers from Queenstown are mostly from class 3 with a count of 72\n"
     ]
    }
   ],
   "source": [
    "q_class_ave = titanic_data[titanic_data.Embarked=='Q'].Pclass\n",
    "q_class_ave = sp.mode(q_class_ave)\n",
    "print(\"Passengers from Queenstown are mostly from class \" + str(q_class_ave[0][0]) + \" with a count of \" + str(q_class_ave[1][0]))"
   ]
  },
  {
   "cell_type": "code",
   "execution_count": 23,
   "metadata": {
    "collapsed": false
   },
   "outputs": [
    {
     "name": "stdout",
     "output_type": "stream",
     "text": [
      "Passengers from Cherbourg are mostly from class 1 with a count of 85\n"
     ]
    }
   ],
   "source": [
    "c_class_ave = titanic_data[titanic_data.Embarked=='C'].Pclass\n",
    "c_class_ave = sp.mode(c_class_ave)\n",
    "print(\"Passengers from Cherbourg are mostly from class \" + str(c_class_ave[0][0]) + \" with a count of \" + str(c_class_ave[1][0]))"
   ]
  },
  {
   "cell_type": "markdown",
   "metadata": {},
   "source": [
    "##### Southampton has the most passangers from the same class which is third at a count of 353."
   ]
  },
  {
   "cell_type": "markdown",
   "metadata": {},
   "source": [
    "## Question 8\n",
    "#### How many male survivors in first class paid lower then the overall median ticket price?"
   ]
  },
  {
   "cell_type": "code",
   "execution_count": 24,
   "metadata": {
    "collapsed": false
   },
   "outputs": [
    {
     "name": "stdout",
     "output_type": "stream",
     "text": [
      "First-class male surviors that paid less then the median: []\n"
     ]
    }
   ],
   "source": [
    "male_over_median = titanic_data[(titanic_data.Fare < fare_median) & (titanic_data.Pclass == 1) & (titanic_data.Survived == 1) & (titanic_data.Sex == \"male\")]\n",
    "print(\"First-class male surviors that paid less then the median: \" + str(male_over_median.values))"
   ]
  },
  {
   "cell_type": "markdown",
   "metadata": {},
   "source": [
    "##### NO first-class male survivors paid less the the median."
   ]
  },
  {
   "cell_type": "markdown",
   "metadata": {},
   "source": [
    "## Question 9\n",
    "How much older/younger was the average surviving passenger with family members than the average non-surviving passenger without them?"
   ]
  },
  {
   "cell_type": "code",
   "execution_count": 25,
   "metadata": {
    "collapsed": false
   },
   "outputs": [
    {
     "name": "stdout",
     "output_type": "stream",
     "text": [
      "Average age of surviving passengers with any sort of family members: 25.526062500000002\n",
      "\n",
      "Average age of dead passengers without any sort of family members: 32.41423357664234\n",
      "\n",
      "Age difference between surviving passengers w/ family members vs dead passengers w/o family members: -6.888171076642337\n"
     ]
    }
   ],
   "source": [
    "surv_fam = np.mean(survivors[(survivors.SibSp > 0)|(survivors.Parch > 0)].Age)\n",
    "print(\"Average age of surviving passengers with any sort of family members: \" + str(surv_fam) + \"\\n\")\n",
    "\n",
    "dead_fam = np.mean(titanic_data[(titanic_data.Survived == 0) & (titanic_data.SibSp == 0) & (titanic_data.Parch==0)].Age)\n",
    "print(\"Average age of dead passengers without any sort of family members: \" + str(dead_fam) + \"\\n\")\n",
    "\n",
    "print(\"Age difference between surviving passengers w/ family members vs dead passengers w/o family members: \" + str(surv_fam - dead_fam))"
   ]
  },
  {
   "cell_type": "markdown",
   "metadata": {},
   "source": [
    "#### The surviving passegners with family were 6.888 years younger then the dead without.   See above for exact number."
   ]
  },
  {
   "cell_type": "markdown",
   "metadata": {},
   "source": [
    "## Question 10\n",
    "Display the relationship between survival rate and the quantile of the ticket price for 20 integer quantiles. "
   ]
  },
  {
   "cell_type": "code",
   "execution_count": 26,
   "metadata": {
    "collapsed": false
   },
   "outputs": [
    {
     "data": {
      "image/png": "[encoded data removed]",
      "text/plain": [
       "<matplotlib.figure.Figure at 0x11369e6a0>"
      ]
     },
     "metadata": {},
     "output_type": "display_data"
    }
   ],
   "source": [
    "import matplotlib.pyplot as plt\n",
    "%matplotlib inline\n",
    "quant_list = []\n",
    "surv_percents = []\n",
    "for i in range(20):\n",
    "    i_per, iplus_per = np.percentile(titanic_data.Fare, [i*5, (i+1)*5])\n",
    "    total = np.sum((titanic_data.Fare > i_per) & (titanic_data.Fare <= iplus_per))\n",
    "    cut = (titanic_data.Fare > i_per) & (titanic_data.Fare <= iplus_per)\n",
    "    surv = cut & (titanic_data.Survived==1)\n",
    "    surv_percents.append(np.sum(surv)/total)\n",
    "    quant_list.append(i_per)\n",
    "\n",
    "plt.figure(figsize=(10, 5))\n",
    "plt.plot(quant_list, surv_percents)\n",
    "plt.xlabel(\"Ticket Price\")\n",
    "plt.ylabel(\"Percent of Survival\")\n",
    "plt.show()"
   ]
  },
  {
   "cell_type": "code",
   "execution_count": null,
   "metadata": {
    "collapsed": true
   },
   "outputs": [],
   "source": []
  }
 ],
 "metadata": {
  "kernelspec": {
   "display_name": "Python 3",
   "language": "python",
   "name": "python3"
  },
  "language_info": {
   "codemirror_mode": {
    "name": "ipython",
    "version": 3
   },
   "file_extension": ".py",
   "mimetype": "text/x-python",
   "name": "python",
   "nbconvert_exporter": "python",
   "pygments_lexer": "ipython3",
   "version": "3.5.1"
  }
 },
 "nbformat": 4,
 "nbformat_minor": 0
}
