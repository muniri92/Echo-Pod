{
 "cells": [
  {
   "cell_type": "markdown",
   "metadata": {},
   "source": [
    "# Objective"
   ]
  },
  {
   "cell_type": "markdown",
   "metadata": {},
   "source": [
    "Predict the survival of Titanic passengers using a K-Means algorithm."
   ]
  },
  {
   "cell_type": "markdown",
   "metadata": {},
   "source": [
    "## Data Analysis"
   ]
  },
  {
   "cell_type": "markdown",
   "metadata": {},
   "source": [
    "### Data Import"
   ]
  },
  {
   "cell_type": "code",
   "execution_count": 1,
   "metadata": {
    "collapsed": false
   },
   "outputs": [],
   "source": [
    "import pandas\n",
    "import numpy as np\n",
    "from sklearn.cross_validation import train_test_split\n",
    "from sklearn.cluster import KMeans\n",
    "from pprint import pprint\n",
    "\n",
    "TITANIC_TRAIN = 'train.csv'\n",
    "TITANIC_TEST = 'test.csv'\n",
    "# t_df refers to titanic_dataframe\n",
    "t_df = pandas.read_csv(TITANIC_TRAIN, header=0)"
   ]
  },
  {
   "cell_type": "markdown",
   "metadata": {},
   "source": [
    "## Selection of Features"
   ]
  },
  {
   "cell_type": "code",
   "execution_count": 2,
   "metadata": {
    "collapsed": false
   },
   "outputs": [
    {
     "name": "stdout",
     "output_type": "stream",
     "text": [
      "<class 'pandas.core.frame.DataFrame'>\n",
      "RangeIndex: 891 entries, 0 to 890\n",
      "Data columns (total 6 columns):\n",
      "PassengerId    891 non-null int64\n",
      "Survived       891 non-null int64\n",
      "Age            714 non-null float64\n",
      "SibSp          891 non-null int64\n",
      "Parch          891 non-null int64\n",
      "Fare           891 non-null float64\n",
      "dtypes: float64(2), int64(4)\n",
      "memory usage: 41.8 KB\n"
     ]
    },
    {
     "data": {
      "text/html": [
       "<div>\n",
       "<table border=\"1\" class=\"dataframe\">\n",
       "  <thead>\n",
       "    <tr style=\"text-align: right;\">\n",
       "      <th></th>\n",
       "      <th>PassengerId</th>\n",
       "      <th>Survived</th>\n",
       "      <th>Age</th>\n",
       "      <th>SibSp</th>\n",
       "      <th>Parch</th>\n",
       "      <th>Fare</th>\n",
       "    </tr>\n",
       "  </thead>\n",
       "  <tbody>\n",
       "    <tr>\n",
       "      <th>0</th>\n",
       "      <td>1</td>\n",
       "      <td>0</td>\n",
       "      <td>22.0</td>\n",
       "      <td>1</td>\n",
       "      <td>0</td>\n",
       "      <td>7.25</td>\n",
       "    </tr>\n",
       "  </tbody>\n",
       "</table>\n",
       "</div>"
      ],
      "text/plain": [
       "   PassengerId  Survived   Age  SibSp  Parch  Fare\n",
       "0            1         0  22.0      1      0  7.25"
      ]
     },
     "execution_count": 2,
     "metadata": {},
     "output_type": "execute_result"
    }
   ],
   "source": [
    "t_df.drop(['Name', 'Ticket', 'Cabin', 'Embarked', 'Sex', 'Pclass'], axis=1, inplace=True)\n",
    "t_df.info()\n",
    "t_df.head(1)"
   ]
  },
  {
   "cell_type": "markdown",
   "metadata": {},
   "source": [
    "## Cleaning Data"
   ]
  },
  {
   "cell_type": "code",
   "execution_count": 3,
   "metadata": {
    "collapsed": false,
    "scrolled": true
   },
   "outputs": [
    {
     "name": "stdout",
     "output_type": "stream",
     "text": [
      "<class 'pandas.core.frame.DataFrame'>\n",
      "RangeIndex: 891 entries, 0 to 890\n",
      "Data columns (total 6 columns):\n",
      "PassengerId    891 non-null int64\n",
      "Survived       891 non-null int64\n",
      "Age            891 non-null float64\n",
      "SibSp          891 non-null int64\n",
      "Parch          891 non-null int64\n",
      "Fare           891 non-null float64\n",
      "dtypes: float64(2), int64(4)\n",
      "memory usage: 41.8 KB\n"
     ]
    },
    {
     "data": {
      "text/html": [
       "<div>\n",
       "<table border=\"1\" class=\"dataframe\">\n",
       "  <thead>\n",
       "    <tr style=\"text-align: right;\">\n",
       "      <th></th>\n",
       "      <th>PassengerId</th>\n",
       "      <th>Survived</th>\n",
       "      <th>Age</th>\n",
       "      <th>SibSp</th>\n",
       "      <th>Parch</th>\n",
       "      <th>Fare</th>\n",
       "    </tr>\n",
       "  </thead>\n",
       "  <tbody>\n",
       "    <tr>\n",
       "      <th>count</th>\n",
       "      <td>891.000000</td>\n",
       "      <td>891.000000</td>\n",
       "      <td>891.000000</td>\n",
       "      <td>891.000000</td>\n",
       "      <td>891.000000</td>\n",
       "      <td>891.000000</td>\n",
       "    </tr>\n",
       "    <tr>\n",
       "      <th>mean</th>\n",
       "      <td>446.000000</td>\n",
       "      <td>0.383838</td>\n",
       "      <td>29.699118</td>\n",
       "      <td>0.523008</td>\n",
       "      <td>0.381594</td>\n",
       "      <td>32.204208</td>\n",
       "    </tr>\n",
       "    <tr>\n",
       "      <th>std</th>\n",
       "      <td>257.353842</td>\n",
       "      <td>0.486592</td>\n",
       "      <td>13.002015</td>\n",
       "      <td>1.102743</td>\n",
       "      <td>0.806057</td>\n",
       "      <td>49.693429</td>\n",
       "    </tr>\n",
       "    <tr>\n",
       "      <th>min</th>\n",
       "      <td>1.000000</td>\n",
       "      <td>0.000000</td>\n",
       "      <td>0.420000</td>\n",
       "      <td>0.000000</td>\n",
       "      <td>0.000000</td>\n",
       "      <td>0.000000</td>\n",
       "    </tr>\n",
       "    <tr>\n",
       "      <th>25%</th>\n",
       "      <td>223.500000</td>\n",
       "      <td>0.000000</td>\n",
       "      <td>22.000000</td>\n",
       "      <td>0.000000</td>\n",
       "      <td>0.000000</td>\n",
       "      <td>7.910400</td>\n",
       "    </tr>\n",
       "    <tr>\n",
       "      <th>50%</th>\n",
       "      <td>446.000000</td>\n",
       "      <td>0.000000</td>\n",
       "      <td>29.699118</td>\n",
       "      <td>0.000000</td>\n",
       "      <td>0.000000</td>\n",
       "      <td>14.454200</td>\n",
       "    </tr>\n",
       "    <tr>\n",
       "      <th>75%</th>\n",
       "      <td>668.500000</td>\n",
       "      <td>1.000000</td>\n",
       "      <td>35.000000</td>\n",
       "      <td>1.000000</td>\n",
       "      <td>0.000000</td>\n",
       "      <td>31.000000</td>\n",
       "    </tr>\n",
       "    <tr>\n",
       "      <th>max</th>\n",
       "      <td>891.000000</td>\n",
       "      <td>1.000000</td>\n",
       "      <td>80.000000</td>\n",
       "      <td>8.000000</td>\n",
       "      <td>6.000000</td>\n",
       "      <td>512.329200</td>\n",
       "    </tr>\n",
       "  </tbody>\n",
       "</table>\n",
       "</div>"
      ],
      "text/plain": [
       "       PassengerId    Survived         Age       SibSp       Parch        Fare\n",
       "count   891.000000  891.000000  891.000000  891.000000  891.000000  891.000000\n",
       "mean    446.000000    0.383838   29.699118    0.523008    0.381594   32.204208\n",
       "std     257.353842    0.486592   13.002015    1.102743    0.806057   49.693429\n",
       "min       1.000000    0.000000    0.420000    0.000000    0.000000    0.000000\n",
       "25%     223.500000    0.000000   22.000000    0.000000    0.000000    7.910400\n",
       "50%     446.000000    0.000000   29.699118    0.000000    0.000000   14.454200\n",
       "75%     668.500000    1.000000   35.000000    1.000000    0.000000   31.000000\n",
       "max     891.000000    1.000000   80.000000    8.000000    6.000000  512.329200"
      ]
     },
     "execution_count": 3,
     "metadata": {},
     "output_type": "execute_result"
    }
   ],
   "source": [
    "t_df.Age.fillna(np.mean(t_df.Age), inplace=True)\n",
    "t_df.info()\n",
    "t_df.head(5)\n",
    "t_df.describe()"
   ]
  },
  {
   "cell_type": "markdown",
   "metadata": {},
   "source": [
    "## Experiment Heueristics (Design)"
   ]
  },
  {
   "cell_type": "markdown",
   "metadata": {},
   "source": [
    "### Evaluation Function Declarations"
   ]
  },
  {
   "cell_type": "markdown",
   "metadata": {},
   "source": [
    "F1 score to be used to evaluate algoritm results."
   ]
  },
  {
   "cell_type": "code",
   "execution_count": 4,
   "metadata": {
    "collapsed": true
   },
   "outputs": [],
   "source": [
    "def precision(tp, fp):\n",
    "    return tp / (tp + fp)\n",
    "    \n",
    "def recall(tp, fn):\n",
    "    return tp / (tp + fn)\n",
    "    \n",
    "def f1_score(tp, fn, fp):\n",
    "    pre = precision(tp, fp)\n",
    "    rec = recall(tp, fn)\n",
    "    return (2 * ((pre * rec) / (pre + rec)))"
   ]
  },
  {
   "cell_type": "markdown",
   "metadata": {},
   "source": [
    "### Representation"
   ]
  },
  {
   "cell_type": "code",
   "execution_count": 10,
   "metadata": {
    "collapsed": false
   },
   "outputs": [
    {
     "name": "stdout",
     "output_type": "stream",
     "text": [
      "     PassengerId  Survived        Age  SibSp  Parch      Fare\n",
      "723          724         0  50.000000      0      0   13.0000\n",
      "349          350         0  42.000000      0      0    8.6625\n",
      "297          298         0   2.000000      1      2  151.5500\n",
      "199          200         0  24.000000      0      0   13.0000\n",
      "238          239         0  19.000000      0      0   10.5000\n",
      "713          714         0  29.000000      0      0    9.4833\n",
      "182          183         0   9.000000      4      2   31.3875\n",
      "368          369         1  29.699118      0      0    7.7500\n",
      "643          644         1  29.699118      0      0   56.4958\n",
      "620          621         0  27.000000      1      0   14.4542\n",
      "165          166         1   9.000000      0      2   20.5250\n",
      "300          301         1  29.699118      0      0    7.7500\n",
      "22            23         1  15.000000      0      0    8.0292\n",
      "703          704         0  25.000000      0      0    7.7417\n",
      "172          173         1   1.000000      1      1   11.1333\n",
      "107          108         1  29.699118      0      0    7.7750\n",
      "176          177         0  29.699118      3      1   25.4667\n",
      "646          647         0  19.000000      0      0    7.8958\n",
      "852          853         0   9.000000      1      1   15.2458\n",
      "877          878         0  19.000000      0      0    7.8958\n",
      "266          267         0  16.000000      4      1   39.6875\n",
      "179          180         0  36.000000      0      0    0.0000\n",
      "130          131         0  33.000000      0      0    7.8958\n",
      "549          550         1   8.000000      1      1   36.7500\n",
      "222          223         0  51.000000      0      0    8.0500\n",
      "584          585         0  29.699118      0      0    8.7125\n",
      "609          610         1  40.000000      0      0  153.4625\n",
      "854          855         0  44.000000      1      0   26.0000\n",
      "596          597         1  29.699118      0      0   33.0000\n",
      "796          797         1  49.000000      0      0   25.9292\n",
      "..           ...       ...        ...    ...    ...       ...\n",
      "227          228         0  20.500000      0      0    7.2500\n",
      "292          293         0  36.000000      0      0   12.8750\n",
      "10            11         1   4.000000      1      1   16.7000\n",
      "462          463         0  47.000000      0      0   38.5000\n",
      "77            78         0  29.699118      0      0    8.0500\n",
      "866          867         1  27.000000      1      0   13.8583\n",
      "207          208         1  26.000000      0      0   18.7875\n",
      "688          689         0  18.000000      0      0    7.7958\n",
      "229          230         0  29.699118      3      1   25.4667\n",
      "678          679         0  43.000000      1      6   46.9000\n",
      "546          547         1  19.000000      1      0   26.0000\n",
      "56            57         1  21.000000      0      0   10.5000\n",
      "600          601         1  24.000000      2      1   27.0000\n",
      "837          838         0  29.699118      0      0    8.0500\n",
      "520          521         1  30.000000      0      0   93.5000\n",
      "478          479         0  22.000000      0      0    7.5208\n",
      "695          696         0  52.000000      0      0   13.5000\n",
      "379          380         0  19.000000      0      0    7.7750\n",
      "785          786         0  25.000000      0      0    7.2500\n",
      "152          153         0  55.500000      0      0    8.0500\n",
      "347          348         1  29.699118      1      0   16.1000\n",
      "313          314         0  28.000000      0      0    7.8958\n",
      "669          670         1  29.699118      1      0   52.0000\n",
      "758          759         0  34.000000      0      0    8.0500\n",
      "140          141         0  29.699118      0      2   15.2458\n",
      "57            58         0  28.500000      0      0    7.2292\n",
      "348          349         1   3.000000      1      1   15.9000\n",
      "381          382         1   1.000000      0      2   15.7417\n",
      "592          593         0  47.000000      0      0    7.2500\n",
      "555          556         0  62.000000      0      0   26.5500\n",
      "\n",
      "[712 rows x 6 columns]\n"
     ]
    }
   ],
   "source": [
    "train, test = train_test_split(t_df, test_size = 0.2)\n",
    "y = train['Survived']\n",
    "# y = test\n",
    "# x = train['Age'].values[:,np.newaxis]\n",
    "x = train\n",
    "print(x)\n",
    "# print(len(train), len(train['Survived']), len(x))"
   ]
  },
  {
   "cell_type": "markdown",
   "metadata": {},
   "source": [
    "## Experiment"
   ]
  },
  {
   "cell_type": "code",
   "execution_count": 11,
   "metadata": {
    "collapsed": false
   },
   "outputs": [
    {
     "name": "stdout",
     "output_type": "stream",
     "text": [
      "[0 1 1 1 1 0 1 1 0 0 1 1 1 0 1 1 1 0 0 0 1 1 1 0 1 0 0 0 0 0 0 1 1 0 0 0 1\n",
      " 1 1 1 0 0 0 1 1 1 1 1 0 1 1 1 1 0 1 1 1 1 0 0 1 0 1 0 1 0 1 1 1 0 0 0 0 0\n",
      " 0 1 1 1 1 1 0 1 1 0 1 1 1 1 0 0 0 1 1 0 1 1 0 0 0 1 1 0 0 1 0 1 0 1 1 1 0\n",
      " 0 0 1 0 1 1 1 0 0 0 0 0 1 1 1 0 0 1 1 1 1 1 0 0 0 1 0 1 1 0 1 1 1 0 0 1 0\n",
      " 0 0 0 1 1 1 0 0 1 1 1 0 1 0 0 0 1 0 1 1 1 0 0 0 1 1 1 1 1 0 1 0 0 1 0 1 0\n",
      " 0 1 0 0 0 0 1 0 1 1 0 1 1 1 1 0 1 0 1 0 0 0 1 1 0 0 0 0 0 0 1 1 1 1 0 0 0\n",
      " 1 0 0 1 0 0 0 0 0 0 0 0 1 0 0 0 0 1 0 1 1 1 1 1 1 0 1 1 0 1 1 0 1 1 0 0 1\n",
      " 0 1 0 0 1 1 1 0 0 0 0 0 0 1 0 0 0 0 0 1 0 1 0 1 1 0 1 1 0 1 1 0 1 1 0 0 1\n",
      " 1 0 0 1 0 0 0 1 0 0 0 1 1 1 1 0 0 0 0 0 0 1 0 1 1 0 0 1 0 1 1 1 1 0 0 0 0\n",
      " 1 1 0 1 1 0 1 0 1 1 0 0 1 0 1 1 0 0 0 1 1 0 0 0 1 1 0 1 1 0 1 0 0 0 0 1 0\n",
      " 1 1 1 1 0 1 1 1 0 0 1 0 1 0 0 1 0 1 1 1 0 0 1 0 0 1 0 1 1 0 0 0 1 1 1 0 1\n",
      " 1 0 0 0 0 0 1 1 1 0 0 0 0 0 0 0 1 1 0 1 1 1 0 0 1 1 1 1 1 0 1 1 0 0 1 1 1\n",
      " 0 1 0 0 0 1 1 0 0 0 1 0 0 1 0 0 0 1 0 1 1 1 1 1 1 0 0 1 1 1 0 1 1 1 1 0 0\n",
      " 1 0 1 0 1 0 1 1 1 0 0 0 1 0 1 1 0 1 1 1 1 0 1 0 0 1 0 1 1 0 0 0 0 0 1 1 1\n",
      " 0 1 1 0 1 1 1 0 0 1 0 0 0 1 1 0 1 0 0 1 1 0 1 0 1 1 0 0 0 0 0 0 1 0 0 1 0\n",
      " 1 0 0 0 1 0 1 0 0 0 1 1 1 1 1 0 0 0 0 0 1 0 1 0 0 0 1 1 1 1 1 0 0 1 1 0 0\n",
      " 0 0 0 1 1 0 0 0 0 0 0 0 0 0 0 1 0 1 1 0 1 0 1 0 1 0 1 1 1 0 1 0 1 1 1 1 0\n",
      " 1 0 0 1 0 1 1 0 1 0 1 1 1 0 1 1 1 1 1 1 1 0 1 0 1 0 1 0 0 1 1 0 0 0 0 1 1\n",
      " 0 1 1 0 1 0 1 1 0 0 0 1 0 0 1 0 1 1 1 0 1 0 1 0 1 0 0 1 0 0 0 0 0 1 0 1 1\n",
      " 1 0 0 1 1 1 1 0 0]\n"
     ]
    },
    {
     "data": {
      "text/plain": [
       "723    0\n",
       "349    0\n",
       "297    0\n",
       "199    0\n",
       "238    0\n",
       "713    0\n",
       "182    0\n",
       "368    1\n",
       "643    1\n",
       "620    0\n",
       "165    1\n",
       "300    1\n",
       "22     1\n",
       "703    0\n",
       "172    1\n",
       "107    1\n",
       "176    0\n",
       "646    0\n",
       "852    0\n",
       "877    0\n",
       "266    0\n",
       "179    0\n",
       "130    0\n",
       "549    1\n",
       "222    0\n",
       "584    0\n",
       "609    1\n",
       "854    0\n",
       "596    1\n",
       "796    1\n",
       "      ..\n",
       "227    0\n",
       "292    0\n",
       "10     1\n",
       "462    0\n",
       "77     0\n",
       "866    1\n",
       "207    1\n",
       "688    0\n",
       "229    0\n",
       "678    0\n",
       "546    1\n",
       "56     1\n",
       "600    1\n",
       "837    0\n",
       "520    1\n",
       "478    0\n",
       "695    0\n",
       "379    0\n",
       "785    0\n",
       "152    0\n",
       "347    1\n",
       "313    0\n",
       "669    1\n",
       "758    0\n",
       "140    0\n",
       "57     0\n",
       "348    1\n",
       "381    1\n",
       "592    0\n",
       "555    0\n",
       "Name: Survived, dtype: int64"
      ]
     },
     "execution_count": 11,
     "metadata": {},
     "output_type": "execute_result"
    }
   ],
   "source": [
    "k = 2\n",
    "# x.values.reshape(-1, 1)\n",
    "kmeans = KMeans(n_clusters=k)\n",
    "results = kmeans.fit_predict(x.values, y.values)\n",
    "print(results) \n",
    "train['Survived']"
   ]
  },
  {
   "cell_type": "code",
   "execution_count": 12,
   "metadata": {
    "collapsed": false
   },
   "outputs": [
    {
     "name": "stdout",
     "output_type": "stream",
     "text": [
      "[0 0 0 0 0 0 0 1 1 0 1 1 1 0 1 1 0 0 0 0 0 0 0 1 0 0 1 0 1 1 0 0 1 0 0 1 0\n",
      " 0 0 1 0 0 1 1 1 1 1 0 0 1 1 1 1 0 1 1 0 0 0 0 1 1 1 0 1 0 1 0 1 1 0 1 0 0\n",
      " 0 1 0 0 0 1 0 1 0 0 0 1 1 1 1 1 0 1 1 0 1 0 1 0 0 1 0 1 1 0 0 0 0 0 1 1 1\n",
      " 0 0 0 0 1 0 1 1 0 0 1 0 0 0 0 0 0 0 0 1 1 0 0 1 0 1 0 0 0 1 1 0 0 0 1 1 0\n",
      " 0 0 0 1 1 0 0 0 0 1 1 0 0 1 0 1 1 0 0 1 0 1 0 1 1 0 1 0 1 0 0 1 1 0 1 0 0\n",
      " 1 1 1 0 0 0 1 0 1 0 1 0 0 0 1 0 0 1 0 0 1 0 0 0 0 0 0 1 1 0 0 0 0 0 0 0 1\n",
      " 0 0 0 1 0 0 0 1 0 1 0 1 1 0 0 1 1 0 0 0 0 1 1 0 0 0 1 0 1 0 0 1 1 0 0 0 0\n",
      " 1 0 0 1 0 1 0 0 0 1 0 1 1 0 1 0 1 1 1 0 0 0 0 0 1 0 1 0 1 0 0 1 0 1 1 1 0\n",
      " 1 1 0 0 1 0 1 0 0 0 1 1 0 1 0 0 0 1 0 1 1 1 1 0 0 0 1 1 1 0 1 0 1 1 1 0 0\n",
      " 0 1 1 0 0 0 1 0 0 0 0 0 0 1 0 1 1 1 0 0 1 1 1 0 0 1 0 1 1 0 1 0 1 0 0 0 0\n",
      " 1 0 0 0 1 1 0 0 0 0 1 1 0 0 1 1 0 1 0 0 0 1 0 0 1 1 0 1 0 0 1 0 1 1 0 1 0\n",
      " 0 0 0 0 1 0 1 0 1 0 0 0 1 0 0 0 0 0 1 1 1 1 1 0 1 0 0 0 1 1 0 0 0 1 1 1 1\n",
      " 0 0 1 1 0 0 0 0 1 1 1 0 0 0 0 1 0 1 0 1 0 0 1 0 0 1 1 1 0 0 1 0 1 1 0 0 0\n",
      " 1 0 0 0 0 0 0 1 0 0 0 1 0 0 0 0 1 0 0 0 1 0 0 0 0 1 0 1 1 0 0 0 0 0 0 1 0\n",
      " 1 0 0 1 0 0 0 0 0 1 1 1 0 0 0 0 0 0 1 0 0 1 0 0 0 1 1 0 0 0 1 1 0 1 0 0 0\n",
      " 0 1 1 0 1 1 1 0 0 0 0 0 0 0 1 0 0 1 0 0 0 0 0 1 1 0 1 1 1 1 0 1 1 0 0 1 0\n",
      " 0 1 0 1 1 0 0 0 0 0 0 1 0 1 0 0 0 0 0 0 0 0 0 0 0 0 0 1 0 0 1 1 0 0 1 1 1\n",
      " 0 0 1 0 1 0 1 1 0 1 0 0 1 0 1 1 0 1 0 0 0 0 0 0 0 0 0 0 0 0 0 1 0 0 1 1 1\n",
      " 1 0 0 0 0 0 0 1 0 1 1 0 0 0 0 0 0 0 1 0 0 1 1 0 0 0 1 1 1 0 1 0 0 0 0 0 1\n",
      " 0 1 0 0 0 1 1 0 0]\n"
     ]
    }
   ],
   "source": [
    "# loop over each row\n",
    "print(x['Survived'].values)"
   ]
  },
  {
   "cell_type": "code",
   "execution_count": 13,
   "metadata": {
    "collapsed": false
   },
   "outputs": [
    {
     "name": "stdout",
     "output_type": "stream",
     "text": [
      "363 136 213\n"
     ]
    }
   ],
   "source": [
    "tp = 0\n",
    "fp = 0\n",
    "fn = 0\n",
    "for i in range(len(results)):\n",
    "    diff = x['Survived'].values[i] - results[i]\n",
    "    \n",
    "    if diff == 1:\n",
    "        fp += 1\n",
    "    elif diff == 0:\n",
    "        tp += 1\n",
    "    else:\n",
    "        fn += 1\n",
    "        \n",
    "print(tp, fp, fn)"
   ]
  },
  {
   "cell_type": "code",
   "execution_count": 14,
   "metadata": {
    "collapsed": false
   },
   "outputs": [
    {
     "name": "stdout",
     "output_type": "stream",
     "text": [
      "0.6753488372093024\n"
     ]
    }
   ],
   "source": [
    "# print(tp, fp, fn)\n",
    "# print(type(tp))\n",
    "f1 = f1_score(tp, fn, fp)\n",
    "print(f1)"
   ]
  },
  {
   "cell_type": "markdown",
   "metadata": {},
   "source": [
    "## Conclusions"
   ]
  },
  {
   "cell_type": "markdown",
   "metadata": {},
   "source": [
    "K-Means algoritm predicts 65.5% correct results."
   ]
  },
  {
   "cell_type": "code",
   "execution_count": 16,
   "metadata": {
    "collapsed": false
   },
   "outputs": [],
   "source": [
    "df_result = pandas.DataFrame(results, columns=['Survived'])\n",
    "df_result.to_csv('titanic_day2.csv', index=False)"
   ]
  },
  {
   "cell_type": "code",
   "execution_count": null,
   "metadata": {
    "collapsed": true
   },
   "outputs": [],
   "source": []
  }
 ],
 "metadata": {
  "kernelspec": {
   "display_name": "Python 3",
   "language": "python",
   "name": "python3"
  },
  "language_info": {
   "codemirror_mode": {
    "name": "ipython",
    "version": 3
   },
   "file_extension": ".py",
   "mimetype": "text/x-python",
   "name": "python",
   "nbconvert_exporter": "python",
   "pygments_lexer": "ipython3",
   "version": "3.5.1"
  }
 },
 "nbformat": 4,
 "nbformat_minor": 0
}
