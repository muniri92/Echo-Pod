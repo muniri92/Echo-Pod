{
 "cells": [
  {
   "cell_type": "markdown",
   "metadata": {},
   "source": [
    "# Objective"
   ]
  },
  {
   "cell_type": "markdown",
   "metadata": {},
   "source": [
    "Predict the survival of Titanic passengers using a K-Means algorithm."
   ]
  },
  {
   "cell_type": "markdown",
   "metadata": {},
   "source": [
    "## Data Analysis"
   ]
  },
  {
   "cell_type": "markdown",
   "metadata": {},
   "source": [
    "### Data Import"
   ]
  },
  {
   "cell_type": "code",
   "execution_count": 1,
   "metadata": {
    "collapsed": false
   },
   "outputs": [],
   "source": [
    "import pandas\n",
    "import numpy as np\n",
    "from sklearn.cross_validation import train_test_split\n",
    "from sklearn.cluster import KMeans\n",
    "from pprint import pprint\n",
    "\n",
    "TITANIC_TRAIN = 'train.csv'\n",
    "TITANIC_TEST = 'test.csv'\n",
    "# t_df refers to titanic_dataframe\n",
    "t_df = pandas.read_csv(TITANIC_TRAIN, header=0)"
   ]
  },
  {
   "cell_type": "markdown",
   "metadata": {},
   "source": [
    "## Selection of Features"
   ]
  },
  {
   "cell_type": "code",
   "execution_count": 2,
   "metadata": {
    "collapsed": false
   },
   "outputs": [
    {
     "name": "stdout",
     "output_type": "stream",
     "text": [
      "<class 'pandas.core.frame.DataFrame'>\n",
      "RangeIndex: 891 entries, 0 to 890\n",
      "Data columns (total 7 columns):\n",
      "PassengerId    891 non-null int64\n",
      "Survived       891 non-null int64\n",
      "Pclass         891 non-null int64\n",
      "Age            714 non-null float64\n",
      "SibSp          891 non-null int64\n",
      "Parch          891 non-null int64\n",
      "Fare           891 non-null float64\n",
      "dtypes: float64(2), int64(5)\n",
      "memory usage: 48.8 KB\n"
     ]
    },
    {
     "data": {
      "text/html": [
       "<div>\n",
       "<table border=\"1\" class=\"dataframe\">\n",
       "  <thead>\n",
       "    <tr style=\"text-align: right;\">\n",
       "      <th></th>\n",
       "      <th>PassengerId</th>\n",
       "      <th>Survived</th>\n",
       "      <th>Pclass</th>\n",
       "      <th>Age</th>\n",
       "      <th>SibSp</th>\n",
       "      <th>Parch</th>\n",
       "      <th>Fare</th>\n",
       "    </tr>\n",
       "  </thead>\n",
       "  <tbody>\n",
       "    <tr>\n",
       "      <th>0</th>\n",
       "      <td>1</td>\n",
       "      <td>0</td>\n",
       "      <td>3</td>\n",
       "      <td>22.0</td>\n",
       "      <td>1</td>\n",
       "      <td>0</td>\n",
       "      <td>7.25</td>\n",
       "    </tr>\n",
       "  </tbody>\n",
       "</table>\n",
       "</div>"
      ],
      "text/plain": [
       "   PassengerId  Survived  Pclass   Age  SibSp  Parch  Fare\n",
       "0            1         0       3  22.0      1      0  7.25"
      ]
     },
     "execution_count": 2,
     "metadata": {},
     "output_type": "execute_result"
    }
   ],
   "source": [
    "t_df.drop(['Name', 'Ticket', 'Cabin', 'Embarked', 'Sex'], axis=1, inplace=True)\n",
    "t_df.info()\n",
    "t_df.head(1)"
   ]
  },
  {
   "cell_type": "markdown",
   "metadata": {},
   "source": [
    "## Cleaning Data"
   ]
  },
  {
   "cell_type": "code",
   "execution_count": 3,
   "metadata": {
    "collapsed": false,
    "scrolled": true
   },
   "outputs": [
    {
     "name": "stdout",
     "output_type": "stream",
     "text": [
      "<class 'pandas.core.frame.DataFrame'>\n",
      "RangeIndex: 891 entries, 0 to 890\n",
      "Data columns (total 7 columns):\n",
      "PassengerId    891 non-null int64\n",
      "Survived       891 non-null int64\n",
      "Pclass         891 non-null int64\n",
      "Age            891 non-null float64\n",
      "SibSp          891 non-null int64\n",
      "Parch          891 non-null int64\n",
      "Fare           891 non-null float64\n",
      "dtypes: float64(2), int64(5)\n",
      "memory usage: 48.8 KB\n"
     ]
    },
    {
     "data": {
      "text/html": [
       "<div>\n",
       "<table border=\"1\" class=\"dataframe\">\n",
       "  <thead>\n",
       "    <tr style=\"text-align: right;\">\n",
       "      <th></th>\n",
       "      <th>PassengerId</th>\n",
       "      <th>Survived</th>\n",
       "      <th>Pclass</th>\n",
       "      <th>Age</th>\n",
       "      <th>SibSp</th>\n",
       "      <th>Parch</th>\n",
       "      <th>Fare</th>\n",
       "    </tr>\n",
       "  </thead>\n",
       "  <tbody>\n",
       "    <tr>\n",
       "      <th>count</th>\n",
       "      <td>891.000000</td>\n",
       "      <td>891.000000</td>\n",
       "      <td>891.000000</td>\n",
       "      <td>891.000000</td>\n",
       "      <td>891.000000</td>\n",
       "      <td>891.000000</td>\n",
       "      <td>891.000000</td>\n",
       "    </tr>\n",
       "    <tr>\n",
       "      <th>mean</th>\n",
       "      <td>446.000000</td>\n",
       "      <td>0.383838</td>\n",
       "      <td>2.308642</td>\n",
       "      <td>29.699118</td>\n",
       "      <td>0.523008</td>\n",
       "      <td>0.381594</td>\n",
       "      <td>32.204208</td>\n",
       "    </tr>\n",
       "    <tr>\n",
       "      <th>std</th>\n",
       "      <td>257.353842</td>\n",
       "      <td>0.486592</td>\n",
       "      <td>0.836071</td>\n",
       "      <td>13.002015</td>\n",
       "      <td>1.102743</td>\n",
       "      <td>0.806057</td>\n",
       "      <td>49.693429</td>\n",
       "    </tr>\n",
       "    <tr>\n",
       "      <th>min</th>\n",
       "      <td>1.000000</td>\n",
       "      <td>0.000000</td>\n",
       "      <td>1.000000</td>\n",
       "      <td>0.420000</td>\n",
       "      <td>0.000000</td>\n",
       "      <td>0.000000</td>\n",
       "      <td>0.000000</td>\n",
       "    </tr>\n",
       "    <tr>\n",
       "      <th>25%</th>\n",
       "      <td>223.500000</td>\n",
       "      <td>0.000000</td>\n",
       "      <td>2.000000</td>\n",
       "      <td>22.000000</td>\n",
       "      <td>0.000000</td>\n",
       "      <td>0.000000</td>\n",
       "      <td>7.910400</td>\n",
       "    </tr>\n",
       "    <tr>\n",
       "      <th>50%</th>\n",
       "      <td>446.000000</td>\n",
       "      <td>0.000000</td>\n",
       "      <td>3.000000</td>\n",
       "      <td>29.699118</td>\n",
       "      <td>0.000000</td>\n",
       "      <td>0.000000</td>\n",
       "      <td>14.454200</td>\n",
       "    </tr>\n",
       "    <tr>\n",
       "      <th>75%</th>\n",
       "      <td>668.500000</td>\n",
       "      <td>1.000000</td>\n",
       "      <td>3.000000</td>\n",
       "      <td>35.000000</td>\n",
       "      <td>1.000000</td>\n",
       "      <td>0.000000</td>\n",
       "      <td>31.000000</td>\n",
       "    </tr>\n",
       "    <tr>\n",
       "      <th>max</th>\n",
       "      <td>891.000000</td>\n",
       "      <td>1.000000</td>\n",
       "      <td>3.000000</td>\n",
       "      <td>80.000000</td>\n",
       "      <td>8.000000</td>\n",
       "      <td>6.000000</td>\n",
       "      <td>512.329200</td>\n",
       "    </tr>\n",
       "  </tbody>\n",
       "</table>\n",
       "</div>"
      ],
      "text/plain": [
       "       PassengerId    Survived      Pclass         Age       SibSp  \\\n",
       "count   891.000000  891.000000  891.000000  891.000000  891.000000   \n",
       "mean    446.000000    0.383838    2.308642   29.699118    0.523008   \n",
       "std     257.353842    0.486592    0.836071   13.002015    1.102743   \n",
       "min       1.000000    0.000000    1.000000    0.420000    0.000000   \n",
       "25%     223.500000    0.000000    2.000000   22.000000    0.000000   \n",
       "50%     446.000000    0.000000    3.000000   29.699118    0.000000   \n",
       "75%     668.500000    1.000000    3.000000   35.000000    1.000000   \n",
       "max     891.000000    1.000000    3.000000   80.000000    8.000000   \n",
       "\n",
       "            Parch        Fare  \n",
       "count  891.000000  891.000000  \n",
       "mean     0.381594   32.204208  \n",
       "std      0.806057   49.693429  \n",
       "min      0.000000    0.000000  \n",
       "25%      0.000000    7.910400  \n",
       "50%      0.000000   14.454200  \n",
       "75%      0.000000   31.000000  \n",
       "max      6.000000  512.329200  "
      ]
     },
     "execution_count": 3,
     "metadata": {},
     "output_type": "execute_result"
    }
   ],
   "source": [
    "t_df.Age.fillna(np.mean(t_df.Age), inplace=True)\n",
    "t_df.info()\n",
    "t_df.head(5)\n",
    "t_df.describe()"
   ]
  },
  {
   "cell_type": "code",
   "execution_count": 25,
   "metadata": {
    "collapsed": false
   },
   "outputs": [
    {
     "name": "stdout",
     "output_type": "stream",
     "text": [
      "<class 'pandas.core.frame.DataFrame'>\n",
      "RangeIndex: 418 entries, 0 to 417\n",
      "Data columns (total 6 columns):\n",
      "PassengerId    418 non-null int64\n",
      "Pclass         418 non-null int64\n",
      "Age            332 non-null float64\n",
      "SibSp          418 non-null int64\n",
      "Parch          418 non-null int64\n",
      "Fare           417 non-null float64\n",
      "dtypes: float64(2), int64(4)\n",
      "memory usage: 19.7 KB\n"
     ]
    },
    {
     "data": {
      "text/html": [
       "<div>\n",
       "<table border=\"1\" class=\"dataframe\">\n",
       "  <thead>\n",
       "    <tr style=\"text-align: right;\">\n",
       "      <th></th>\n",
       "      <th>PassengerId</th>\n",
       "      <th>Pclass</th>\n",
       "      <th>Age</th>\n",
       "      <th>SibSp</th>\n",
       "      <th>Parch</th>\n",
       "      <th>Fare</th>\n",
       "    </tr>\n",
       "  </thead>\n",
       "  <tbody>\n",
       "    <tr>\n",
       "      <th>0</th>\n",
       "      <td>892</td>\n",
       "      <td>3</td>\n",
       "      <td>34.5</td>\n",
       "      <td>0</td>\n",
       "      <td>0</td>\n",
       "      <td>7.8292</td>\n",
       "    </tr>\n",
       "  </tbody>\n",
       "</table>\n",
       "</div>"
      ],
      "text/plain": [
       "   PassengerId  Pclass   Age  SibSp  Parch    Fare\n",
       "0          892       3  34.5      0      0  7.8292"
      ]
     },
     "execution_count": 25,
     "metadata": {},
     "output_type": "execute_result"
    }
   ],
   "source": [
    "test_df = pandas.read_csv(TITANIC_TEST, header=0)\n",
    "test_df.drop(['Name', 'Ticket', 'Cabin', 'Embarked', 'Sex'], axis=1, inplace=True)\n",
    "test_df.info()\n",
    "test_df.head(1)\n"
   ]
  },
  {
   "cell_type": "code",
   "execution_count": 26,
   "metadata": {
    "collapsed": false
   },
   "outputs": [
    {
     "name": "stdout",
     "output_type": "stream",
     "text": [
      "<class 'pandas.core.frame.DataFrame'>\n",
      "RangeIndex: 418 entries, 0 to 417\n",
      "Data columns (total 6 columns):\n",
      "PassengerId    418 non-null int64\n",
      "Pclass         418 non-null int64\n",
      "Age            418 non-null float64\n",
      "SibSp          418 non-null int64\n",
      "Parch          418 non-null int64\n",
      "Fare           418 non-null float64\n",
      "dtypes: float64(2), int64(4)\n",
      "memory usage: 19.7 KB\n"
     ]
    },
    {
     "data": {
      "text/html": [
       "<div>\n",
       "<table border=\"1\" class=\"dataframe\">\n",
       "  <thead>\n",
       "    <tr style=\"text-align: right;\">\n",
       "      <th></th>\n",
       "      <th>PassengerId</th>\n",
       "      <th>Pclass</th>\n",
       "      <th>Age</th>\n",
       "      <th>SibSp</th>\n",
       "      <th>Parch</th>\n",
       "      <th>Fare</th>\n",
       "    </tr>\n",
       "  </thead>\n",
       "  <tbody>\n",
       "    <tr>\n",
       "      <th>count</th>\n",
       "      <td>418.000000</td>\n",
       "      <td>418.000000</td>\n",
       "      <td>418.000000</td>\n",
       "      <td>418.000000</td>\n",
       "      <td>418.000000</td>\n",
       "      <td>418.000000</td>\n",
       "    </tr>\n",
       "    <tr>\n",
       "      <th>mean</th>\n",
       "      <td>1100.500000</td>\n",
       "      <td>2.265550</td>\n",
       "      <td>30.272590</td>\n",
       "      <td>0.447368</td>\n",
       "      <td>0.392344</td>\n",
       "      <td>35.627188</td>\n",
       "    </tr>\n",
       "    <tr>\n",
       "      <th>std</th>\n",
       "      <td>120.810458</td>\n",
       "      <td>0.841838</td>\n",
       "      <td>12.634534</td>\n",
       "      <td>0.896760</td>\n",
       "      <td>0.981429</td>\n",
       "      <td>55.840500</td>\n",
       "    </tr>\n",
       "    <tr>\n",
       "      <th>min</th>\n",
       "      <td>892.000000</td>\n",
       "      <td>1.000000</td>\n",
       "      <td>0.170000</td>\n",
       "      <td>0.000000</td>\n",
       "      <td>0.000000</td>\n",
       "      <td>0.000000</td>\n",
       "    </tr>\n",
       "    <tr>\n",
       "      <th>25%</th>\n",
       "      <td>996.250000</td>\n",
       "      <td>1.000000</td>\n",
       "      <td>23.000000</td>\n",
       "      <td>0.000000</td>\n",
       "      <td>0.000000</td>\n",
       "      <td>7.895800</td>\n",
       "    </tr>\n",
       "    <tr>\n",
       "      <th>50%</th>\n",
       "      <td>1100.500000</td>\n",
       "      <td>3.000000</td>\n",
       "      <td>30.272590</td>\n",
       "      <td>0.000000</td>\n",
       "      <td>0.000000</td>\n",
       "      <td>14.454200</td>\n",
       "    </tr>\n",
       "    <tr>\n",
       "      <th>75%</th>\n",
       "      <td>1204.750000</td>\n",
       "      <td>3.000000</td>\n",
       "      <td>35.750000</td>\n",
       "      <td>1.000000</td>\n",
       "      <td>0.000000</td>\n",
       "      <td>31.500000</td>\n",
       "    </tr>\n",
       "    <tr>\n",
       "      <th>max</th>\n",
       "      <td>1309.000000</td>\n",
       "      <td>3.000000</td>\n",
       "      <td>76.000000</td>\n",
       "      <td>8.000000</td>\n",
       "      <td>9.000000</td>\n",
       "      <td>512.329200</td>\n",
       "    </tr>\n",
       "  </tbody>\n",
       "</table>\n",
       "</div>"
      ],
      "text/plain": [
       "       PassengerId      Pclass         Age       SibSp       Parch        Fare\n",
       "count   418.000000  418.000000  418.000000  418.000000  418.000000  418.000000\n",
       "mean   1100.500000    2.265550   30.272590    0.447368    0.392344   35.627188\n",
       "std     120.810458    0.841838   12.634534    0.896760    0.981429   55.840500\n",
       "min     892.000000    1.000000    0.170000    0.000000    0.000000    0.000000\n",
       "25%     996.250000    1.000000   23.000000    0.000000    0.000000    7.895800\n",
       "50%    1100.500000    3.000000   30.272590    0.000000    0.000000   14.454200\n",
       "75%    1204.750000    3.000000   35.750000    1.000000    0.000000   31.500000\n",
       "max    1309.000000    3.000000   76.000000    8.000000    9.000000  512.329200"
      ]
     },
     "execution_count": 26,
     "metadata": {},
     "output_type": "execute_result"
    }
   ],
   "source": [
    "test_df.Age.fillna(np.mean(test_df.Age), inplace=True)\n",
    "test_df.Fare.fillna(np.mean(test_df.Fare), inplace=True)\n",
    "test_df.info()\n",
    "test_df.head(5)\n",
    "test_df.describe()"
   ]
  },
  {
   "cell_type": "markdown",
   "metadata": {},
   "source": [
    "## Experiment Heueristics (Design)"
   ]
  },
  {
   "cell_type": "markdown",
   "metadata": {},
   "source": [
    "### Evaluation Function Declarations"
   ]
  },
  {
   "cell_type": "markdown",
   "metadata": {},
   "source": [
    "F1 score to be used to evaluate algoritm results."
   ]
  },
  {
   "cell_type": "code",
   "execution_count": 4,
   "metadata": {
    "collapsed": true
   },
   "outputs": [],
   "source": [
    "def precision(tp, fp):\n",
    "    return tp / (tp + fp)\n",
    "    \n",
    "def recall(tp, fn):\n",
    "    return tp / (tp + fn)\n",
    "    \n",
    "def f1_score(tp, fn, fp):\n",
    "    pre = precision(tp, fp)\n",
    "    rec = recall(tp, fn)\n",
    "    return (2 * ((pre * rec) / (pre + rec)))"
   ]
  },
  {
   "cell_type": "markdown",
   "metadata": {},
   "source": [
    "### Representation"
   ]
  },
  {
   "cell_type": "code",
   "execution_count": 5,
   "metadata": {
    "collapsed": false
   },
   "outputs": [
    {
     "name": "stdout",
     "output_type": "stream",
     "text": [
      "     PassengerId  Survived  Pclass        Age  SibSp  Parch      Fare\n",
      "419          420         0       3  10.000000      0      2   24.1500\n",
      "367          368         1       3  29.699118      0      0    7.2292\n",
      "111          112         0       3  14.500000      1      0   14.4542\n",
      "798          799         0       3  30.000000      0      0    7.2292\n",
      "761          762         0       3  41.000000      0      0    7.1250\n",
      "562          563         0       2  28.000000      0      0   13.5000\n",
      "829          830         1       1  62.000000      0      0   80.0000\n",
      "133          134         1       2  29.000000      1      0   26.0000\n",
      "847          848         0       3  35.000000      0      0    7.8958\n",
      "722          723         0       2  34.000000      0      0   13.0000\n",
      "806          807         0       1  39.000000      0      0    0.0000\n",
      "117          118         0       2  29.000000      1      0   21.0000\n",
      "803          804         1       3   0.420000      0      1    8.5167\n",
      "862          863         1       1  48.000000      0      0   25.9292\n",
      "786          787         1       3  18.000000      0      0    7.4958\n",
      "268          269         1       1  58.000000      0      1  153.4625\n",
      "175          176         0       3  18.000000      1      1    7.8542\n",
      "35            36         0       1  42.000000      1      0   52.0000\n",
      "304          305         0       3  29.699118      0      0    8.0500\n",
      "598          599         0       3  29.699118      0      0    7.2250\n",
      "686          687         0       3  14.000000      4      1   39.6875\n",
      "587          588         1       1  60.000000      1      1   79.2000\n",
      "350          351         0       3  23.000000      0      0    9.2250\n",
      "91            92         0       3  20.000000      0      0    7.8542\n",
      "182          183         0       3   9.000000      4      2   31.3875\n",
      "146          147         1       3  27.000000      0      0    7.7958\n",
      "679          680         1       1  36.000000      0      1  512.3292\n",
      "849          850         1       1  29.699118      1      0   89.1042\n",
      "461          462         0       3  34.000000      0      0    8.0500\n",
      "740          741         1       1  29.699118      0      0   30.0000\n",
      "..           ...       ...     ...        ...    ...    ...       ...\n",
      "629          630         0       3  29.699118      0      0    7.7333\n",
      "312          313         0       2  26.000000      1      1   26.0000\n",
      "486          487         1       1  35.000000      1      0   90.0000\n",
      "561          562         0       3  40.000000      0      0    7.8958\n",
      "116          117         0       3  70.500000      0      0    7.7500\n",
      "105          106         0       3  28.000000      0      0    7.8958\n",
      "331          332         0       1  45.500000      0      0   28.5000\n",
      "1              2         1       1  38.000000      1      0   71.2833\n",
      "434          435         0       1  50.000000      1      0   55.9000\n",
      "141          142         1       3  22.000000      0      0    7.7500\n",
      "45            46         0       3  29.699118      0      0    8.0500\n",
      "127          128         1       3  24.000000      0      0    7.1417\n",
      "213          214         0       2  30.000000      0      0   13.0000\n",
      "273          274         0       1  37.000000      0      1   29.7000\n",
      "237          238         1       2   8.000000      0      2   26.2500\n",
      "443          444         1       2  28.000000      0      0   13.0000\n",
      "400          401         1       3  39.000000      0      0    7.9250\n",
      "559          560         1       3  36.000000      1      0   17.4000\n",
      "407          408         1       2   3.000000      1      1   18.7500\n",
      "265          266         0       2  36.000000      0      0   10.5000\n",
      "290          291         1       1  26.000000      0      0   78.8500\n",
      "802          803         1       1  11.000000      1      2  120.0000\n",
      "362          363         0       3  45.000000      0      1   14.4542\n",
      "276          277         0       3  45.000000      0      0    7.7500\n",
      "147          148         0       3   9.000000      2      2   34.3750\n",
      "834          835         0       3  18.000000      0      0    8.3000\n",
      "718          719         0       3  29.699118      0      0   15.5000\n",
      "404          405         0       3  20.000000      0      0    8.6625\n",
      "610          611         0       3  39.000000      1      5   31.2750\n",
      "196          197         0       3  29.699118      0      0    7.7500\n",
      "\n",
      "[712 rows x 7 columns]\n"
     ]
    }
   ],
   "source": [
    "train, test = train_test_split(t_df, test_size = 0.2)\n",
    "y = train['Survived']\n",
    "# y = test\n",
    "# x = train['Age'].values[:,np.newaxis]\n",
    "x = train\n",
    "print(x)\n",
    "# print(len(train), len(train['Survived']), len(x))"
   ]
  },
  {
   "cell_type": "markdown",
   "metadata": {},
   "source": [
    "## Experiment"
   ]
  },
  {
   "cell_type": "code",
   "execution_count": 23,
   "metadata": {
    "collapsed": false
   },
   "outputs": [
    {
     "name": "stdout",
     "output_type": "stream",
     "text": [
      "[1 1 1 0 0 0 0 1 0 0 0 1 0 0 0 1 1 1 1 0 0 0 1 1 1 1 0 0 0 0 1 0 0 0 0 1 0\n",
      " 0 0 0 0 0 1 1 1 0 1 1 0 1 0 1 0 1 0 1 1 0 0 1 1 0 1 0 1 0 0 1 0 0 0 1 0 1\n",
      " 1 0 1 0 1 0 0 0 0 0 0 0 1 0 1 0 1 1 1 0 0 1 1 0 0 0 1 0 0 1 1 0 0 0 0 1 0\n",
      " 1 1 1 0 1 1 1 0 1 0 0 0 0 0 1 1 1 1 1 0 0 1 0 1 1 1 0 0 0 0 0 1 0 0 1 0 1\n",
      " 1 0 0 1 0 1 1 0 1 1 0 0 1 1 1 1 1 1 0 1 1 1 0 1 0 1 1 1 0 1 1 0 0 0 0 1 1\n",
      " 0 1 1 1 1 1 1 1 1 0 0 0 0 1 0 1 0 0 0 0 0 0 0 1 1 0 1 0 0 0 0 1 0 1 0 1 1\n",
      " 0 0 1 1 1 0 1 1 1 0 0 0 1 0 1 0 1 0 1 1 1 1 1 1 0 0 1 1 1 0 1 1 0 1 1 1 0\n",
      " 0 1 0 1 1 0 0 0 0 1 0 0 0 0 0 1 1 1 0 0 1 0 1 0 1 0 1 1 0 0 1 1 1 0 1 0 1\n",
      " 1 1 1 0 0 1 1 1 0 1 1 0 0 0 0 0 1 1 1 0 0 0 1 0 1 1 1 0 0 1 1 1 1 1 1 1 0\n",
      " 1 0 0 0 1 1 1 1 1 0 1 0 1 0 0 1 1 1 1 0 0 0 0 1 1 1 1 1 0 0 1 0 1 0 1 1 0\n",
      " 0 0 1 1 0 0 0 1 1 0 0 1 1 1 1 0 0 1 0 0 1 0 0 1 0 0 1 1 0 1 0 0 1 1 1 1 0\n",
      " 1 0 0 1 0 0 1 1 1 1 1 0 0 1 1 1 1 0 1 0 0 0 1 1 1 1 0 1 1 1 0 1 1 0 0 0 1\n",
      " 0 1 0 0 0 0 0 0 0 1 0 1 0 1 0 1 1 1 0 1 1 0 1 1 0 0 1 1 0 0 1 1 1 0 0 1 1\n",
      " 0 0 1 1 1 1 1 0 0 1 0 0 0 0 0 1 0 0 1 1 0 0 1 0 1 1 1 0 1 1 0 1 0 0 0 0 1\n",
      " 1 1 0 0 1 0 1 1 0 0 0 0 0 1 1 0 1 0 1 0 1 0 0 1 1 1 1 1 1 1 0 0 0 1 1 1 0\n",
      " 0 0 1 1 1 1 1 1 0 0 1 1 1 1 1 0 1 0 0 0 1 1 0 1 0 0 0 0 1 0 0 0 1 0 1 0 1\n",
      " 1 1 0 0 0 1 0 1 0 0 1 0 0 1 0 1 0 1 1 1 0 0 1 0 1 0 1 0 1 0 1 0 1 0 1 0 0\n",
      " 1 0 0 0 0 1 1 0 0 0 0 0 1 1 0 0 0 1 1 1 0 0 0 0 1 0 0 0 1 0 0 1 1 0 0 1 1\n",
      " 0 1 0 0 0 1 1 1 1 0 0 0 1 0 0 0 0 1 0 0 1 1 1 1 1 1 1 1 1 1 1 1 1 0 1 1 1\n",
      " 0 1 1 1 0 0 1 0 1]\n"
     ]
    },
    {
     "data": {
      "text/plain": [
       "419    0\n",
       "367    1\n",
       "111    0\n",
       "798    0\n",
       "761    0\n",
       "562    0\n",
       "829    1\n",
       "133    1\n",
       "847    0\n",
       "722    0\n",
       "806    0\n",
       "117    0\n",
       "803    1\n",
       "862    1\n",
       "786    1\n",
       "268    1\n",
       "175    0\n",
       "35     0\n",
       "304    0\n",
       "598    0\n",
       "686    0\n",
       "587    1\n",
       "350    0\n",
       "91     0\n",
       "182    0\n",
       "146    1\n",
       "679    1\n",
       "849    1\n",
       "461    0\n",
       "740    1\n",
       "      ..\n",
       "629    0\n",
       "312    0\n",
       "486    1\n",
       "561    0\n",
       "116    0\n",
       "105    0\n",
       "331    0\n",
       "1      1\n",
       "434    0\n",
       "141    1\n",
       "45     0\n",
       "127    1\n",
       "213    0\n",
       "273    0\n",
       "237    1\n",
       "443    1\n",
       "400    1\n",
       "559    1\n",
       "407    1\n",
       "265    0\n",
       "290    1\n",
       "802    1\n",
       "362    0\n",
       "276    0\n",
       "147    0\n",
       "834    0\n",
       "718    0\n",
       "404    0\n",
       "610    0\n",
       "196    0\n",
       "Name: Survived, dtype: int64"
      ]
     },
     "execution_count": 23,
     "metadata": {},
     "output_type": "execute_result"
    }
   ],
   "source": [
    "k = 2\n",
    "# x.values.reshape(-1, 1)\n",
    "kmeans = KMeans(n_clusters=k)\n",
    "results = kmeans.fit_predict(x.values, y.values)\n",
    "print(results) \n",
    "train['Survived']"
   ]
  },
  {
   "cell_type": "code",
   "execution_count": 12,
   "metadata": {
    "collapsed": false
   },
   "outputs": [
    {
     "name": "stdout",
     "output_type": "stream",
     "text": [
      "[0 1 0 0 0 0 1 1 0 0 0 0 1 1 1 1 0 0 0 0 0 1 0 0 0 1 1 1 0 1 0 0 0 1 1 0 0\n",
      " 0 1 1 0 1 0 0 1 1 0 1 0 1 0 1 0 1 1 0 0 1 1 0 1 1 0 1 1 0 0 1 1 0 1 0 1 1\n",
      " 0 0 1 1 0 1 0 1 1 1 0 0 0 0 1 0 0 0 0 0 1 0 0 0 1 1 1 1 0 0 0 0 0 1 1 1 0\n",
      " 0 1 0 1 0 0 0 0 1 0 0 0 0 1 0 0 0 0 0 0 0 1 0 1 1 0 0 0 0 0 1 1 1 1 0 1 0\n",
      " 1 1 1 0 0 1 0 0 0 0 0 1 0 0 0 1 0 1 1 1 1 0 1 0 0 1 0 1 0 0 0 0 1 0 0 1 0\n",
      " 1 1 1 0 0 0 0 0 0 0 1 0 0 1 0 1 1 1 0 0 0 0 1 1 1 0 0 0 1 0 0 0 0 1 0 1 0\n",
      " 0 1 1 0 0 0 1 0 0 0 0 0 0 0 0 0 0 1 0 1 0 1 0 0 1 1 1 1 1 0 0 1 1 0 0 0 0\n",
      " 1 1 0 1 1 0 0 0 1 0 1 0 0 0 0 1 0 1 0 1 1 0 0 0 1 0 1 0 0 0 0 0 0 0 1 0 1\n",
      " 0 1 1 1 0 0 0 1 1 0 0 1 0 0 0 0 1 1 0 0 1 1 0 0 0 0 0 0 0 0 0 0 0 1 1 1 1\n",
      " 0 0 0 0 0 0 0 0 0 0 0 1 1 1 0 0 0 0 0 1 0 0 0 1 0 1 0 0 1 0 0 0 1 0 1 0 0\n",
      " 0 0 0 0 0 0 1 0 0 0 0 1 0 0 0 1 1 1 0 0 1 0 1 1 0 1 0 0 0 1 0 0 1 1 0 0 1\n",
      " 0 0 0 0 0 0 0 1 1 0 0 0 1 0 0 1 0 0 1 0 0 1 1 1 1 0 0 0 0 0 0 0 0 0 1 0 1\n",
      " 1 0 1 0 1 1 0 0 0 0 1 0 1 0 0 0 1 1 1 1 1 1 1 1 0 0 1 1 0 0 0 0 0 0 1 1 1\n",
      " 0 1 1 0 1 1 1 1 0 1 1 0 0 0 1 1 1 0 1 0 0 0 0 1 0 0 1 1 0 1 1 1 0 0 1 1 1\n",
      " 1 1 0 0 0 0 1 0 0 1 0 0 0 0 1 0 1 0 0 0 0 0 1 0 1 1 1 0 0 0 0 0 1 0 0 0 1\n",
      " 0 1 0 1 1 1 0 1 1 0 0 0 0 1 1 0 1 1 0 0 1 1 1 0 0 1 0 0 0 1 0 1 0 0 0 0 0\n",
      " 0 1 0 1 0 0 0 0 1 0 1 0 0 0 1 0 1 0 0 1 0 1 0 0 0 0 1 0 0 0 1 1 1 0 0 0 0\n",
      " 1 1 0 1 1 0 1 0 0 0 0 1 0 1 0 0 0 1 1 0 0 0 0 0 1 0 1 1 0 0 1 1 0 0 1 1 0\n",
      " 1 0 1 0 0 0 0 1 1 0 0 1 0 0 0 0 0 0 1 0 0 0 0 1 0 1 0 1 0 0 1 1 1 1 1 0 1\n",
      " 1 0 0 0 0 0 0 0 0]\n",
      "[420 368 112 799 762 563 830 134 848 723 807 118 804 863 787 269 176  36\n",
      " 305 599 687 588 351  92 183 147 680 850 462 741 223 637 506 531 764 170\n",
      " 587 777 650 713 795 505 105 387 306 766 240   3 656 400 659  98 589 195\n",
      " 555 230 345 559 497 175  44 581 203 690 275 700 785  56 645 643 648 192\n",
      " 592  66  78 816  20 867 178 890 475 521 728 601 455 666 251 852 436 491\n",
      " 135 353 327 481 839 220 123 861 459 778   9 613 732  63 115 733 614 802\n",
      " 605 208 703 159 301  71 544 337 236  64 837 124 808 579 722 747 710 138\n",
      " 179 122 161 243 518 886 248 849 231 450 233 883 826 786 638 511 212 550\n",
      " 876 372 858 286 199 707 609  35 758 270 265 465 374 396 584 508 130  34\n",
      " 297  75 343 157 485 330 413 261 857 452 595 433 356 273 684   1 146 523\n",
      " 781 575 699 167  97 636 217 210 424 204 149 206 419 352 796 678 483 765\n",
      "  62 504 287 805 608 844 878 460 566 654 126 448 535  15 753 534 823 626\n",
      "  68 591  24 729  53 160 801 470 324 156 285 815 441 201 385 602 767 664\n",
      " 241 549 131 846  30 490 100 312 155  85 121 252 748 888  23  37 234 466\n",
      " 229 415 524 325 402 336 499 671  89 879  83 445 641 542 860 840  81 519\n",
      " 757 635 607 567 173 218 242 565 473 107 734 375 489 307 855 216 144 695\n",
      " 529  28 366  70 817 348 663 110 181 280  57 843 476 365 136 256 872   5\n",
      " 244 458 539 740 457 673  99 311 410 681 600 570 389 793 263  76 125 853\n",
      " 647 378 379  77 224 338 428 417 755 362 477 819 621 282  19 250 101 397\n",
      " 683 281 571 427 725 847 293 120 246 350 775 503 827 533 432   6 391 133\n",
      " 393 702 788 172 887 359 885  67 303 891 716 657 404  52 640 865 551  31\n",
      "  88 696 814 339 232 139 200 541 859  12 833 583 284 649 454 209 620 854\n",
      "  72 439 672 196 569 486 304  40 119  43 484 177 590 714 141 615 838 211\n",
      " 184 342 407 288 882 881 271  51 205 403 790 447 492 676 875 187 319  59\n",
      " 163 784 443 254 228 769 344 279 516 597 749 381 642 440 782 617 856 510\n",
      " 739 528 694  84 586 318 752 423 812   8  16 446 880  82 329 619 360 346\n",
      " 820 530 382 221 770 512 113 247   7 697 670 316 331 604 456 258 355 394\n",
      "  48 262 628 502 357 789 545 794 482 527 377 821 522 317  27 869 841 158\n",
      " 644 164  42 349 540 409 260 832 449 556 688 580 548 335  54 384 509 679\n",
      " 426 564 390  38 818 763 632 552 768 414 143 479 219 618  96 606  17 568\n",
      " 536 333  11 376 320 165 180 411 561 737 824 103 429  49 709 689 836  61\n",
      " 191 268 367 412  80 574 662 235 278 294 227 290 712 249 738 889 800 438\n",
      " 185 573 453 669 866 873 851 190 622 842 698 315 809 383 736 151 215 302\n",
      " 845 514 677  41 612 253 631 558 431 494 813 267 692 421 718 182  65   4\n",
      " 493 780 340 495  73 705 272 553 245 724 257 721 152 868  95 467 625 392\n",
      " 480 773 701 756 283 328 726 730 576 594 797 153  79 603 667 543 371 108\n",
      " 406 655 772 526 791 225 651 731 717 354 660 760 276 386 877 745 289 132\n",
      " 474 202 727 658 500 140  47 259 347 653 525 691 442 720 496 825 630 313\n",
      " 487 562 117 106 332   2 435 142  46 128 214 274 238 444 401 560 408 266\n",
      " 291 803 363 277 148 835 719 405 611 197]\n"
     ]
    }
   ],
   "source": [
    "# loop over each row\n",
    "print(x['Survived'].values)\n",
    "print(x['PassengerId'].values)"
   ]
  },
  {
   "cell_type": "code",
   "execution_count": 8,
   "metadata": {
    "collapsed": false
   },
   "outputs": [
    {
     "name": "stdout",
     "output_type": "stream",
     "text": [
      "342 148 222\n"
     ]
    }
   ],
   "source": [
    "tp = 0\n",
    "fp = 0\n",
    "fn = 0\n",
    "for i in range(len(results)):\n",
    "    diff = x['Survived'].values[i] - results[i]\n",
    "    \n",
    "    if diff == 1:\n",
    "        fp += 1\n",
    "    elif diff == 0:\n",
    "        tp += 1\n",
    "    else:\n",
    "        fn += 1\n",
    "        \n",
    "print(tp, fp, fn)"
   ]
  },
  {
   "cell_type": "code",
   "execution_count": 9,
   "metadata": {
    "collapsed": false
   },
   "outputs": [
    {
     "name": "stdout",
     "output_type": "stream",
     "text": [
      "0.6489563567362429\n"
     ]
    }
   ],
   "source": [
    "# print(tp, fp, fn)\n",
    "# print(type(tp))\n",
    "f1 = f1_score(tp, fn, fp)\n",
    "print(f1)"
   ]
  },
  {
   "cell_type": "markdown",
   "metadata": {},
   "source": [
    "## Conclusions"
   ]
  },
  {
   "cell_type": "markdown",
   "metadata": {},
   "source": [
    "K-Means algoritm predicts 68.5% correct results."
   ]
  },
  {
   "cell_type": "code",
   "execution_count": 15,
   "metadata": {
    "collapsed": false
   },
   "outputs": [],
   "source": [
    "df_result = pandas.DataFrame(results, columns=['Survived'])\n",
    "df_result.to_csv('titanic_day2.csv', index=False)"
   ]
  },
  {
   "cell_type": "code",
   "execution_count": null,
   "metadata": {
    "collapsed": true
   },
   "outputs": [],
   "source": []
  }
 ],
 "metadata": {
  "kernelspec": {
   "display_name": "Python 3",
   "language": "python",
   "name": "python3"
  },
  "language_info": {
   "codemirror_mode": {
    "name": "ipython",
    "version": 3
   },
   "file_extension": ".py",
   "mimetype": "text/x-python",
   "name": "python",
   "nbconvert_exporter": "python",
   "pygments_lexer": "ipython3",
   "version": "3.5.1"
  }
 },
 "nbformat": 4,
 "nbformat_minor": 0
}
