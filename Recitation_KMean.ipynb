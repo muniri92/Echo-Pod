{
 "cells": [
  {
   "cell_type": "markdown",
   "metadata": {},
   "source": [
    "# Objective"
   ]
  },
  {
   "cell_type": "markdown",
   "metadata": {},
   "source": [
    "Predict the survival of Titanic passengers using a K-Means algorithm."
   ]
  },
  {
   "cell_type": "markdown",
   "metadata": {},
   "source": [
    "## Data Analysis"
   ]
  },
  {
   "cell_type": "markdown",
   "metadata": {},
   "source": [
    "### Data Import"
   ]
  },
  {
   "cell_type": "code",
   "execution_count": 1,
   "metadata": {
    "collapsed": false
   },
   "outputs": [],
   "source": [
    "import pandas\n",
    "import numpy as np\n",
    "from sklearn.cross_validation import train_test_split\n",
    "from sklearn.cluster import KMeans\n",
    "from pprint import pprint\n",
    "\n",
    "TITANIC_TRAIN = 'train.csv'\n",
    "TITANIC_TEST = 'test.csv'\n",
    "# t_df refers to titanic_dataframe\n",
    "t_df = pandas.read_csv(TITANIC_TRAIN, header=0)"
   ]
  },
  {
   "cell_type": "markdown",
   "metadata": {},
   "source": [
    "## Selection of Features"
   ]
  },
  {
   "cell_type": "code",
   "execution_count": 2,
   "metadata": {
    "collapsed": false
   },
   "outputs": [
    {
     "name": "stdout",
     "output_type": "stream",
     "text": [
      "<class 'pandas.core.frame.DataFrame'>\n",
      "RangeIndex: 891 entries, 0 to 890\n",
      "Data columns (total 7 columns):\n",
      "PassengerId    891 non-null int64\n",
      "Survived       891 non-null int64\n",
      "Pclass         891 non-null int64\n",
      "Age            714 non-null float64\n",
      "SibSp          891 non-null int64\n",
      "Parch          891 non-null int64\n",
      "Fare           891 non-null float64\n",
      "dtypes: float64(2), int64(5)\n",
      "memory usage: 48.8 KB\n"
     ]
    },
    {
     "data": {
      "text/html": [
       "<div>\n",
       "<table border=\"1\" class=\"dataframe\">\n",
       "  <thead>\n",
       "    <tr style=\"text-align: right;\">\n",
       "      <th></th>\n",
       "      <th>PassengerId</th>\n",
       "      <th>Survived</th>\n",
       "      <th>Pclass</th>\n",
       "      <th>Age</th>\n",
       "      <th>SibSp</th>\n",
       "      <th>Parch</th>\n",
       "      <th>Fare</th>\n",
       "    </tr>\n",
       "  </thead>\n",
       "  <tbody>\n",
       "    <tr>\n",
       "      <th>0</th>\n",
       "      <td>1</td>\n",
       "      <td>0</td>\n",
       "      <td>3</td>\n",
       "      <td>22.0</td>\n",
       "      <td>1</td>\n",
       "      <td>0</td>\n",
       "      <td>7.25</td>\n",
       "    </tr>\n",
       "  </tbody>\n",
       "</table>\n",
       "</div>"
      ],
      "text/plain": [
       "   PassengerId  Survived  Pclass   Age  SibSp  Parch  Fare\n",
       "0            1         0       3  22.0      1      0  7.25"
      ]
     },
     "execution_count": 2,
     "metadata": {},
     "output_type": "execute_result"
    }
   ],
   "source": [
    "t_df.drop(['Name', 'Ticket', 'Cabin', 'Embarked', 'Sex'], axis=1, inplace=True)\n",
    "t_df.info()\n",
    "t_df.head(1)"
   ]
  },
  {
   "cell_type": "markdown",
   "metadata": {},
   "source": [
    "## Cleaning Data"
   ]
  },
  {
   "cell_type": "code",
   "execution_count": 3,
   "metadata": {
    "collapsed": false,
    "scrolled": true
   },
   "outputs": [
    {
     "name": "stdout",
     "output_type": "stream",
     "text": [
      "<class 'pandas.core.frame.DataFrame'>\n",
      "RangeIndex: 891 entries, 0 to 890\n",
      "Data columns (total 7 columns):\n",
      "PassengerId    891 non-null int64\n",
      "Survived       891 non-null int64\n",
      "Pclass         891 non-null int64\n",
      "Age            891 non-null float64\n",
      "SibSp          891 non-null int64\n",
      "Parch          891 non-null int64\n",
      "Fare           891 non-null float64\n",
      "dtypes: float64(2), int64(5)\n",
      "memory usage: 48.8 KB\n"
     ]
    }
   ],
   "source": [
    "t_df.Age.fillna(np.mean(t_df.Age), inplace=True)\n",
    "t_df.info()"
   ]
  },
  {
   "cell_type": "markdown",
   "metadata": {},
   "source": [
    "## Experiment Heueristics (Design)"
   ]
  },
  {
   "cell_type": "markdown",
   "metadata": {},
   "source": [
    "### Evaluation Function Declarations"
   ]
  },
  {
   "cell_type": "markdown",
   "metadata": {},
   "source": [
    "F1 score to be used to evaluate algoritm results."
   ]
  },
  {
   "cell_type": "code",
   "execution_count": 4,
   "metadata": {
    "collapsed": true
   },
   "outputs": [],
   "source": [
    "def precision(tp, fp):\n",
    "    \"\"\"Determtine The Precision of Algorithm\"\"\"\n",
    "    return tp / (tp + fp)\n",
    "    \n",
    "def recall(tp, fn):\n",
    "    \"\"\"Determine The Recall of Algorithm\"\"\"\n",
    "    return tp / (tp + fn)\n",
    "    \n",
    "def f1_score(tp, fn, fp):\n",
    "    \"\"\"Return the F1 score of a algorithm\"\"\"\n",
    "    pre = precision(tp, fp)\n",
    "    rec = recall(tp, fn)\n",
    "    return (2 * ((pre * rec) / (pre + rec)))"
   ]
  },
  {
   "cell_type": "markdown",
   "metadata": {},
   "source": [
    "### Representation"
   ]
  },
  {
   "cell_type": "code",
   "execution_count": 5,
   "metadata": {
    "collapsed": false
   },
   "outputs": [],
   "source": [
    "train, test = train_test_split(t_df, test_size = 0.2)\n",
    "y = np.array(train['Survived'])\n",
    "x = np.array(train[['Pclass', 'Age', 'SibSp', 'Parch', 'Fare']])\n",
    "train_fares = []\n",
    "for i in range(len(x)):\n",
    "    train_fares.append(x[i][-1])"
   ]
  },
  {
   "cell_type": "markdown",
   "metadata": {},
   "source": [
    "## Experiment"
   ]
  },
  {
   "cell_type": "code",
   "execution_count": 6,
   "metadata": {
    "collapsed": false
   },
   "outputs": [],
   "source": [
    "k = 2\n",
    "kmeans = KMeans(n_clusters=k)\n",
    "results = kmeans.fit_predict(x)"
   ]
  },
  {
   "cell_type": "markdown",
   "metadata": {},
   "source": [
    "The K-Means split up the passengers into two groups 0 and 1 but it's not clear which of these represents Surivived and Non-Survived. The assumption is made that whichever group has the higher mean fare is the survival group. Depending on which group is the survival group the True Positives/False Positives calculations are slighty different."
   ]
  },
  {
   "cell_type": "code",
   "execution_count": 7,
   "metadata": {
    "collapsed": false
   },
   "outputs": [
    {
     "name": "stdout",
     "output_type": "stream",
     "text": [
      "Mean Fare of Group One: 209.56679090909088\n",
      "Mean Fare of Group Zero: 23.232540942562594\n",
      "True Positives: 459\n",
      "False Positives: 244\n",
      "False Negative: 9\n"
     ]
    }
   ],
   "source": [
    "tp = 0\n",
    "fp = 0\n",
    "fn = 0\n",
    "\n",
    "one_fare = []\n",
    "zero_fare = []\n",
    "\n",
    "for i in range(len(results)):\n",
    "    if results[i] == 1:\n",
    "        one_fare.append(train_fares[i])\n",
    "    elif results[i] == 0:\n",
    "        zero_fare.append(train_fares[i])\n",
    "        \n",
    "one_mean_fare = np.mean(one_fare)\n",
    "print(\"Mean Fare of Group One: {}\".format(one_mean_fare))\n",
    "zero_mean_fare = np.mean(zero_fare)      \n",
    "print(\"Mean Fare of Group Zero: {}\".format(zero_mean_fare))\n",
    "\n",
    "if one_mean_fare > zero_mean_fare:    \n",
    "    for i in range(len(results)):\n",
    "        diff = y[i] - results[i]\n",
    "        if diff == 1:\n",
    "            fp += 1\n",
    "        elif diff == 0:\n",
    "            tp += 1\n",
    "        else:\n",
    "            fn += 1\n",
    "else:\n",
    "    for i in range(len(results)):\n",
    "        diff = y[i] - results[i]\n",
    "        if diff == 1:\n",
    "            fn += 1\n",
    "        elif diff == 0:\n",
    "            tp += 1\n",
    "        else:\n",
    "            fp += 1  \n",
    "\n",
    "print(\"True Positives: \" + str(tp))\n",
    "print(\"False Positives: \" + str(fp))\n",
    "print(\"False Negative: \" + str(fn))"
   ]
  },
  {
   "cell_type": "code",
   "execution_count": 8,
   "metadata": {
    "collapsed": false
   },
   "outputs": [
    {
     "name": "stdout",
     "output_type": "stream",
     "text": [
      "F1 Score: 0.7839453458582408\n"
     ]
    }
   ],
   "source": [
    "f1 = f1_score(tp, fn, fp)\n",
    "print(\"F1 Score: \" + str(f1))"
   ]
  },
  {
   "cell_type": "markdown",
   "metadata": {},
   "source": [
    "## Conclusions"
   ]
  },
  {
   "cell_type": "markdown",
   "metadata": {},
   "source": [
    "K-Means algoritm predicts ~78% correct results."
   ]
  },
  {
   "cell_type": "markdown",
   "metadata": {},
   "source": [
    "## Performing the Above Experiment For Kaggle"
   ]
  },
  {
   "cell_type": "code",
   "execution_count": 19,
   "metadata": {
    "collapsed": false
   },
   "outputs": [],
   "source": [
    "test_df = pandas.read_csv(TITANIC_TEST, header=0)\n",
    "test_df.drop(['Name', 'Ticket', 'Cabin', 'Embarked', 'Sex'], axis=1, inplace=True)\n",
    "test_df.Age.fillna(np.mean(test_df.Age), inplace=True)\n",
    "test_df.Fare.fillna(np.mean(test_df.Fare), inplace=True)\n",
    "x = np.array(test_df[['Pclass', 'Age', 'SibSp', 'Parch', 'Fare']])\n",
    "kmeans = KMeans(n_clusters=k)\n",
    "results = kmeans.fit_predict(x)\n",
    "s1 = pandas.Series(np.array(test_df.PassengerId), name='PassengerId')\n",
    "s2 = pandas.Series(results, name='Survived')\n",
    "kaggle_result = pandas.concat([s1,s2], axis=1)\n",
    "kaggle_result.to_csv('titanic_day2.csv', index=False)"
   ]
  },
  {
   "cell_type": "code",
   "execution_count": null,
   "metadata": {
    "collapsed": true
   },
   "outputs": [],
   "source": []
  }
 ],
 "metadata": {
  "kernelspec": {
   "display_name": "Python 3",
   "language": "python",
   "name": "python3"
  },
  "language_info": {
   "codemirror_mode": {
    "name": "ipython",
    "version": 3
   },
   "file_extension": ".py",
   "mimetype": "text/x-python",
   "name": "python",
   "nbconvert_exporter": "python",
   "pygments_lexer": "ipython3",
   "version": "3.5.1"
  }
 },
 "nbformat": 4,
 "nbformat_minor": 0
}
